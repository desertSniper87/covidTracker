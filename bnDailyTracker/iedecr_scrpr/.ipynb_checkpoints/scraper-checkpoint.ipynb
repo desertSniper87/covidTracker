{
 "cells": [
  {
   "cell_type": "code",
   "execution_count": 1,
   "metadata": {},
   "outputs": [
    {
     "name": "stdout",
     "output_type": "stream",
     "text": [
      "3.8.2 (default, Apr 27 2020, 15:53:34) \n",
      "[GCC 9.3.0]\n"
     ]
    }
   ],
   "source": [
    "import sys\n",
    "print (sys.version)"
   ]
  },
  {
   "cell_type": "code",
   "execution_count": 2,
   "metadata": {},
   "outputs": [],
   "source": [
    "import tabula\n",
    "import pandas as pd"
   ]
  },
  {
   "cell_type": "code",
   "execution_count": 3,
   "metadata": {},
   "outputs": [
    {
     "data": {
      "text/plain": [
       "16"
      ]
     },
     "execution_count": 3,
     "metadata": {},
     "output_type": "execute_result"
    }
   ],
   "source": [
    "date = 16\n",
    "month = 'may'\n",
    "month_n = 5\n",
    "\n",
    "f = open(f\"./{month}/{date}/data.csv\", \"w+\")\n",
    "\n",
    "iedcr2bcc_district = {\n",
    "    \"B. Baria\": \"Brahamanbaria\",\n",
    "    \"Barishal\": \"Barisal\",\n",
    "    # \"Bogra\": \"Bogura\",\n",
    "    \"Chattogram\": \"Chittagong\",\n",
    "    \"Cox’s bazar\": \"Cox's Bazar\",\n",
    "    \"Cumilla\": \"Comilla\",\n",
    "    \"Hobiganj\": \"Habiganj\",\n",
    "    \"Jhalokathi\": \"Jhalokati\",\n",
    "    \"Khagrachari\": \"Khagrachhari\",\n",
    "    \"Laksmipur\": \"Lakshmipur\",\n",
    "    \"Moulovi Bazar\": \"Maulvibazar\",\n",
    "    \"Munshigonj\": \"Munshiganj\",\n",
    "    \"Narshingdi\": \"Narsingdi\",\n",
    "    \"Netrokona\": \"Netrakona\",\n",
    "    \"Panchagar\": \"Panchagarh\",\n",
    "    \"Potuakhali\": \"Patuakhali\",\n",
    "    \"Rangmati\": \"Rangamati\",\n",
    "    \"Chapainawabganj\": \"Nawabganj\"\n",
    "}\n",
    "\n",
    "en2bn_district = {\n",
    "    \"Bagerhat\": \"বাগেরহাট\",\n",
    "    \"Bandarban\": \"বান্দরবান\",\n",
    "    \"Barguna\": \"বরগুনা\",\n",
    "    \"Barisal\": \"বরিশাল\",\n",
    "    \"Bhola\": \"ভোলা\",\n",
    "    \"Bogra\": \"বগুড়া\",\n",
    "    \"Brahamanbaria\": \"ব্রাহ্মণবাড়িয়া\",\n",
    "    \"Chandpur\": \"চাঁদপুর\",\n",
    "    \"Chittagong\": \"চট্টগ্রাম\",\n",
    "    \"Chuadanga\": \"চুয়াডাঙ্গা\",\n",
    "    \"Comilla\": \"কুমিল্লা\",\n",
    "    \"Cox's Bazar\": \"কক্সবাজার\",\n",
    "    \"Dhaka\": \"ঢাকা\",\n",
    "    \"Dinajpur\": \"দিনাজপুর\",\n",
    "    \"Faridpur\": \"ফরিদপুর\",\n",
    "    \"Feni\": \"ফেনী\",\n",
    "    \"Gaibandha\": \"গাইবান্ধা\",\n",
    "    \"Gazipur\": \"গাজীপুর\",\n",
    "    \"Gopalganj\": \"গোপালগঞ্জ\",\n",
    "    \"Habiganj\": \"হবিগঞ্জ\",\n",
    "    \"Jamalpur\": \"জামালপুর\",\n",
    "    \"Jessore\": \"যশোর\",\n",
    "    \"Jhalokati\": \"ঝালকাঠি\",\n",
    "    \"Jhenaidah\": \"ঝিনাইদহ\",\n",
    "    \"Joypurhat\": \"জয়পুরহাট\",\n",
    "    \"Khagrachhari\": \"খাগড়াছড়ি\",\n",
    "    \"Khulna\": \"খুলনা\",\n",
    "    \"Kishoreganj\": \"কিশোরগঞ্জ\",\n",
    "    \"Kurigram\": \"কুড়িগ্রাম\",\n",
    "    \"Kushtia\": \"কুষ্টিয়া\",\n",
    "    \"Lakshmipur\": \"লক্ষ্মীপুর\",\n",
    "    \"Lalmonirhat\": \"লালমনিরহাট\",\n",
    "    \"Madaripur\": \"মাদারীপুর\",\n",
    "    \"Magura\": \"মাগুরা\",\n",
    "    \"Manikganj\": \"মানিকগঞ্জ\",\n",
    "    \"Maulvibazar\": \"মেহেরপুর\",\n",
    "    \"Meherpur\": \"মৌলভীবাজার\",\n",
    "    \"Munshiganj\": \"মুন্সিগঞ্জ\",\n",
    "    \"Mymensingh\": \"ময়মনসিংহ\",\n",
    "    \"Naogaon\": \"নওগাঁ\",\n",
    "    \"Narail\": \"নড়াইল\",\n",
    "    \"Narayanganj\": \"নারায়ণগঞ্জ\",\n",
    "    \"Narsingdi\": \"নরসিংদী\",\n",
    "    \"Natore\": \"নাটোর\",\n",
    "    \"Nawabganj\": \"চাঁপাইনবাবগঞ্জ\",\n",
    "    \"Netrakona\": \"নেত্রকোণা\",\n",
    "    \"Nilphamari\": \"নীলফামারী\",\n",
    "    \"Noakhali\": \"নোয়াখালী\",\n",
    "    \"Pabna\": \"পাবনা\",\n",
    "    \"Panchagarh\": \"পঞ্চগড়\",\n",
    "    \"Patuakhali\": \"পটুয়াখালী\",\n",
    "    \"Pirojpur\": \"পিরোজপুর\",\n",
    "    \"Rajbari\": \"রাজবাড়ী\",\n",
    "    \"Rajshahi\": \"রাজশাহী\",\n",
    "    \"Rangamati\": \"রাঙ্গামাটি\",\n",
    "    \"Rangpur\": \"রংপুর\",\n",
    "    \"Satkhira\": \"সাতক্ষীরা\",\n",
    "    \"Shariatpur\": \"শরীয়তপুর\",\n",
    "    \"Sherpur\": \"শেরপুর\",\n",
    "    \"Sirajganj\": \"সিরাজগঞ্জ\",\n",
    "    \"Sunamganj\": \"সুনামগঞ্জ\",\n",
    "    \"Sylhet\": \"সিলেট\",\n",
    "    \"Tangail\": \"টাঙ্গাইল\",\n",
    "    \"Thakurgaon\": \"ঠাকুরগাঁও\"\n",
    "}\n",
    "\n",
    "en2bn_dhk_area = {\n",
    "    \n",
    "}\n",
    "\n",
    "f.write(\"date\" + ',,' + f'{date}.{month_n}.2020' + '\\n')"
   ]
  },
  {
   "cell_type": "code",
   "execution_count": 4,
   "metadata": {},
   "outputs": [
    {
     "name": "stderr",
     "output_type": "stream",
     "text": [
      "Got stderr: May 17, 2020 2:49:20 AM org.apache.pdfbox.pdmodel.font.PDCIDFontType2 <init>\n",
      "INFO: OpenType Layout tables used in font ABCDEE+Calibri are not implemented in PDFBox and will be ignored\n",
      "May 17, 2020 2:49:21 AM org.apache.pdfbox.pdmodel.font.PDCIDFontType2 <init>\n",
      "INFO: OpenType Layout tables used in font ABCDEE+Calibri are not implemented in PDFBox and will be ignored\n",
      "May 17, 2020 2:49:21 AM org.apache.pdfbox.pdmodel.font.PDCIDFontType2 <init>\n",
      "INFO: OpenType Layout tables used in font ABCDEE+Calibri are not implemented in PDFBox and will be ignored\n",
      "\n"
     ]
    }
   ],
   "source": [
    "try:\n",
    "    df = tabula.read_pdf(f\"./{month}/{date}/data_updated.pdf\", pages='all', pandas_options={\"header\": None})\n",
    "except FileNotFoundError:\n",
    "    df = tabula.read_pdf(f\"./{month}/{date}/data.pdf\", pages='all', pandas_options={\"header\": None})"
   ]
  },
  {
   "cell_type": "code",
   "execution_count": 5,
   "metadata": {},
   "outputs": [],
   "source": [
    "# with pd.option_context('display.max_rows', None, 'display.max_columns', None): \n",
    "#     print(df[1:])\n"
   ]
  },
  {
   "cell_type": "code",
   "execution_count": 6,
   "metadata": {},
   "outputs": [],
   "source": [
    "# district_info = pd.concat([df[0], df[1]], ignore_index=True).iloc[1:]\n",
    "district_info = df[0].iloc[1:]"
   ]
  },
  {
   "cell_type": "code",
   "execution_count": 7,
   "metadata": {},
   "outputs": [],
   "source": [
    "#corrupt_data = district_info[district_info[2].isnull()]\n",
    "#corrupt_data = corrupt_data.drop(corrupt_data.columns[[2,3]], axis=1).dropna(how='any')"
   ]
  },
  {
   "cell_type": "code",
   "execution_count": 8,
   "metadata": {
    "scrolled": true
   },
   "outputs": [
    {
     "name": "stdout",
     "output_type": "stream",
     "text": [
      "[             0                 1      2         3       4\n",
      "0     Division     District/City  Total  Division       %\n",
      "1          NaN        Dhaka City   8923      8923  57.38%\n",
      "2          NaN  Dhaka (District)    267       NaN     NaN\n",
      "3          NaN           Gazipur    509       NaN     NaN\n",
      "4          NaN       Kishoreganj    206       NaN     NaN\n",
      "5          NaN         Madaripur     61       NaN     NaN\n",
      "6          NaN         Manikganj     29       NaN     NaN\n",
      "7          NaN       Narayanganj   1426       NaN     NaN\n",
      "8        Dhaka               NaN    NaN       NaN     NaN\n",
      "9          NaN        Munshigonj    297      3234  20.80%\n",
      "10         NaN        Narshingdi    173       NaN     NaN\n",
      "11         NaN           Rajbari     27       NaN     NaN\n",
      "12         NaN          Faridpur     55       NaN     NaN\n",
      "13         NaN           Tangail     35       NaN     NaN\n",
      "14         NaN        Shariatpur     67       NaN     NaN\n",
      "15         NaN         Gopalganj     82       NaN     NaN\n",
      "16         NaN        Chattogram    619       NaN     NaN\n",
      "17         NaN       Cox’s bazar    161       NaN     NaN\n",
      "18         NaN           Cumilla    278       NaN     NaN\n",
      "19         NaN          B. Baria     60       NaN     NaN\n",
      "20         NaN       Khagrachari      7       NaN     NaN\n",
      "21  Chattogram         Laksmipur     88      1474   9.48%\n",
      "22         NaN         Bandarban      5       NaN     NaN\n",
      "23         NaN          Rangmati     26       NaN     NaN\n",
      "24         NaN          Noakhali    103       NaN     NaN\n",
      "25         NaN              Feni     48       NaN     NaN\n",
      "26         NaN          Chandpur     79       NaN     NaN\n",
      "27         NaN     Moulovi Bazar     37       NaN     NaN\n",
      "28         NaN         Sunamganj     44       NaN     NaN\n",
      "29      Sylhet               NaN    NaN       221   1.42%\n",
      "30         NaN          Hobiganj    100       NaN     NaN\n",
      "31         NaN            Sylhet     40       NaN     NaN\n",
      "32         NaN           Rangpur    213       NaN     NaN\n",
      "33         NaN         Gaibandha     26       NaN     NaN\n",
      "34         NaN        Nilphamari     50       NaN     NaN\n",
      "35         NaN       Lalmonirhat     22       NaN     NaN\n",
      "36     Rangpur               NaN    NaN       448   2.88%\n",
      "37         NaN          Kurigram     42       NaN     NaN\n",
      "38         NaN          Dinajpur     53       NaN     NaN\n",
      "39         NaN         Panchagar     15       NaN     NaN\n",
      "40         NaN        Thakurgaon     27       NaN     NaN\n",
      "41         NaN            Khulna     23       NaN     NaN\n",
      "42         NaN           Jessore    106       NaN     NaN\n",
      "43         NaN          Bagerhat      6       NaN     NaN\n",
      "44         NaN            Narail     15       NaN     NaN\n",
      "45         NaN            Magura     23       NaN     NaN\n",
      "46      Khulna               NaN    NaN       331   2.13%\n",
      "47         NaN          Meherpur      5       NaN     NaN\n",
      "48         NaN          Satkhira      5       NaN     NaN\n",
      "49         NaN         Jhenaidah     44       NaN     NaN\n",
      "50         NaN           Kushtia     25       NaN     NaN\n",
      "51         NaN         Chuadanga     79       NaN     NaN\n",
      "52         NaN        Mymensingh    284       NaN     NaN\n",
      "53         NaN          Jamalpur    118       NaN     NaN\n",
      "54  Mymensingh               NaN    NaN       534   3.43%\n",
      "55         NaN         Netrokona     91       NaN     NaN\n",
      "56         NaN           Sherpur     41       NaN     NaN\n",
      "57         NaN           Barguna     37       NaN     NaN\n",
      "58         NaN             Bhola     11       NaN     NaN\n",
      "59         NaN          Barishal     60       NaN     NaN\n",
      "60    Barishal               NaN    NaN       158   1.02%\n",
      "61         NaN        Potuakhali     29       NaN     NaN\n",
      "62         NaN          Pirojpur      7       NaN     NaN\n",
      "63         NaN        Jhalokathi     14       NaN     NaN\n",
      "64         NaN         Joypurhat     69       NaN     NaN\n",
      "65         NaN             Pabna     18       NaN     NaN\n",
      "66         NaN   Chapainawabganj     15       NaN     NaN\n",
      "67         NaN             Bogra     29       NaN     NaN\n",
      "68    Rajshahi               NaN    NaN       228   1.47%\n",
      "69         NaN            Natore     14       NaN     NaN\n",
      "70         NaN           Naogaon     45       NaN     NaN\n",
      "71         NaN         Sirajganj      7       NaN     NaN\n",
      "72         NaN          Rajshahi     31       NaN     NaN,                 0      1               2      3              4      5  \\\n",
      "0        Location  Total         Eskaton   39.0       Lalmatia   30.0   \n",
      "1             NaN    NaN      Faridabagh    NaN        Lalbagh    NaN   \n",
      "2     Abdullahpur      3             NaN    1.0            NaN  117.0   \n",
      "3      Aftabnagar      1      Fakirapool    3.0     Laxmibazar   19.0   \n",
      "4          Adabor     26        Fulbaria   14.0       Madartek    7.0   \n",
      "5        Agargaon     58      Forashganj    2.0       Malitola    4.0   \n",
      "6             NaN    NaN        Farmgate    NaN       Malibagh    NaN   \n",
      "7       Aminbazar      2             NaN   38.0            NaN  101.0   \n",
      "8        Amlapara      2        Gendaria   75.0       Matikata    4.0   \n",
      "9             NaN    NaN        Golartek    NaN          Manda    NaN   \n",
      "10       Arambagh      8             NaN    1.0            NaN   30.0   \n",
      "11     Armanitola      3           Goran   14.0     Maniknagar   33.0   \n",
      "12      Asad Gate      1       Golapbagh   10.0        Manikdi    1.0   \n",
      "13        Ashulia      2       Gonoktuli    4.0        Matuail    8.0   \n",
      "14        Ashkona      1         Gopibag   29.0        Meradia    8.0   \n",
      "15        Azimpur     34      Green Road   39.0     Mintu Road    5.0   \n",
      "16            NaN    NaN        Gulistan    NaN  Mirhajaribagh    NaN   \n",
      "17     Babu Bazar    115             NaN   11.0            NaN    5.0   \n",
      "18          Badda     93         Gulshan   63.0       Mirpur-1   53.0   \n",
      "19     Baily Road     13      Hatir jhil    6.0       Mirpur-2   14.0   \n",
      "20    Bakshibazar      8        Hajipara    3.0       Mirpur-6   12.0   \n",
      "21      Baridhara     14       Hatirpool   17.0      Mirpur-10   24.0   \n",
      "22       Banasree     20      Hazaribagh   57.0      Mirpur-11   48.0   \n",
      "23         Banani     51      Ibrahimpur    8.0      Mirpur-12   24.0   \n",
      "24    Banglamotor      6       Islambagh    3.0      Mirpur-13    9.0   \n",
      "25            NaN    NaN        Islampur    7.0      Mirpur-14   41.0   \n",
      "26       Bangshal     84             NaN    NaN            NaN    NaN   \n",
      "27            NaN    NaN        Jailgate    2.0        Mitford   38.0   \n",
      "28     Banianagar      1             NaN    NaN            NaN    NaN   \n",
      "29         Basabo     61       Jatrabari  227.0       Mogbazar   98.0   \n",
      "30     Bijoynagar      1        Jigatala   12.0        Monipur    1.0   \n",
      "31            NaN    NaN          Jurain    NaN            NaN    NaN   \n",
      "32    Bashundhora     23             NaN   45.0      Mohakhali  224.0   \n",
      "33      Begunbari      4          Kafrul    8.0       Mohonpur    1.0   \n",
      "34            NaN    NaN      Kallyanpur    NaN    Mohammadpur    NaN   \n",
      "35    Begum Bazar      1             NaN   27.0            NaN  198.0   \n",
      "36       Beribadh      1       Kalabagan   24.0       Motijeel   11.0   \n",
      "37            NaN    NaN         Kakrail    NaN            NaN    NaN   \n",
      "38   Bokshi Bazar      5             NaN  254.0          Mugda  189.0   \n",
      "39         Bosila      1     Kathalbagan   10.0       Nawabpur    4.0   \n",
      "40      Buet Area      1       Kamalapur   15.0    Nazirabazar   10.0   \n",
      "41            NaN    NaN           kajla    NaN        Narinda    NaN   \n",
      "42     Cantonment     14             NaN    3.0            NaN   28.0   \n",
      "43            NaN    NaN  Kamrangir Char    NaN     New market    NaN   \n",
      "44   Central Road      2             NaN   42.0            NaN   14.0   \n",
      "45            NaN    NaN       Kazi para    NaN        Niketon    NaN   \n",
      "46   Chankharpool     37             NaN   11.0            NaN    5.0   \n",
      "47            NaN    NaN    Kawran Bazar    NaN        Nilkhet    NaN   \n",
      "48    Chawk Bazar     70             NaN   15.0            NaN    4.0   \n",
      "49            NaN    NaN      Koratitola    NaN     Nakhalpara    NaN   \n",
      "50          Dania     11             NaN    1.0            NaN   29.0   \n",
      "51    Dakshinkhan      1       Kosaituli    1.0      Nayabazar   23.0   \n",
      "52            NaN    NaN       Kochukhet    NaN       Neemtoli    NaN   \n",
      "53    Dhakkeshori      1             NaN    3.0            NaN    9.0   \n",
      "54            NaN    NaN        Khilgaon    NaN        Nikunja    NaN   \n",
      "55          Demra     23             NaN   84.0            NaN    2.0   \n",
      "56      Dhanmondi     97        Khilkhet    5.0     Panthapath   23.0   \n",
      "57            NaN    NaN      Koltabazar    NaN        Pallabi    NaN   \n",
      "58        Dhalpur     18             NaN    1.0            NaN   20.0   \n",
      "59            NaN    NaN       Kodomtoli    NaN       Paikpara    NaN   \n",
      "60      Dholaipar      6             NaN   10.0            NaN    4.0   \n",
      "61            NaN    NaN        Kotowali    NaN         Paltan    NaN   \n",
      "62     Dholaikhal      2             NaN   27.0            NaN   36.0   \n",
      "63            NaN    NaN      Kutubkhali    NaN            NaN    NaN   \n",
      "64       Doyaganj      3             NaN    6.0      Pirerbagh    9.0   \n",
      "65            NaN    NaN           Kuril    NaN      Postogola    NaN   \n",
      "66  Elephant Road     16             NaN    4.0            NaN    8.0   \n",
      "\n",
      "                      6      7  \n",
      "0         Purana Paltan   27.0  \n",
      "1             Rajarbagh    NaN  \n",
      "2                   NaN  206.0  \n",
      "3               Rampura   60.0  \n",
      "4                 Ramna   50.0  \n",
      "5             Rasulbagh    4.0  \n",
      "6                   NaN    NaN  \n",
      "7             Rayerbagh   12.0  \n",
      "8            Raja Bazar   21.0  \n",
      "9              Rosulpur    NaN  \n",
      "10                  NaN    4.0  \n",
      "11              Rupganj    1.0  \n",
      "12           Rayerbazar   14.0  \n",
      "13            Sabujbagh   10.0  \n",
      "14            Sadarghat    5.0  \n",
      "15            Sahjanpur   27.0  \n",
      "16            Sayedabad    NaN  \n",
      "17                  NaN   15.0  \n",
      "18         Segunbagicha   10.0  \n",
      "19          Science Lab    1.0  \n",
      "20        Shah Ali Bagh    2.0  \n",
      "21              Shahbag   73.0  \n",
      "22        Shakharibazar   32.0  \n",
      "23           Shantibagh   19.0  \n",
      "24              Shampur   11.0  \n",
      "25          Shantinagar   37.0  \n",
      "26                  NaN    NaN  \n",
      "27             Shaymoli   65.0  \n",
      "28                  NaN    NaN  \n",
      "29           Shewrapara    9.0  \n",
      "30          Shekher Tek    1.0  \n",
      "31                  NaN    NaN  \n",
      "32         Showari Ghat    3.0  \n",
      "33            Sipahibag    4.0  \n",
      "34         Siddheshwari    NaN  \n",
      "35                  NaN   14.0  \n",
      "36          Sonir akhra   19.0  \n",
      "37                  NaN    NaN  \n",
      "38            Swamibagh   49.0  \n",
      "39  Sher-E-Bangla Nagar   27.0  \n",
      "40             Sutrapur   37.0  \n",
      "41                  NaN    NaN  \n",
      "42            Tallabagh    4.0  \n",
      "43                  NaN    NaN  \n",
      "44            TatiBazar   10.0  \n",
      "45                  NaN    NaN  \n",
      "46             Tikatoli   24.0  \n",
      "47                  NaN    NaN  \n",
      "48          Tejkunipara    3.0  \n",
      "49                  NaN    NaN  \n",
      "50              Tejgaon  144.0  \n",
      "51                Turag    1.0  \n",
      "52                  NaN    NaN  \n",
      "53        Tezturi Bazar    5.0  \n",
      "54                  NaN    NaN  \n",
      "55                Tongi   14.0  \n",
      "56             Tolarbag   19.0  \n",
      "57                  NaN    NaN  \n",
      "58            Urdu Road    1.0  \n",
      "59                  NaN    NaN  \n",
      "60               Uttara  106.0  \n",
      "61                  NaN    NaN  \n",
      "62               Vatara   10.0  \n",
      "63                  NaN    NaN  \n",
      "64             Vasantek    3.0  \n",
      "65                  NaN    NaN  \n",
      "66                 Wari   67.0  ]\n"
     ]
    }
   ],
   "source": [
    "with pd.option_context('display.max_rows', None, 'display.max_columns', None): \n",
    "    print(df)\n",
    "#     print(dhk_area_dat)\n",
    "columns_to_be_dropped = district_info.columns[[0, 3, 4]]"
   ]
  },
  {
   "cell_type": "code",
   "execution_count": 9,
   "metadata": {},
   "outputs": [],
   "source": [
    "district_info = district_info.drop(columns_to_be_dropped, axis=1).dropna(how='any')"
   ]
  },
  {
   "cell_type": "code",
   "execution_count": 10,
   "metadata": {},
   "outputs": [],
   "source": [
    "# corrupt_data.columns = ['district', 'total']\n",
    "district_info.columns =  ['district', 'total']"
   ]
  },
  {
   "cell_type": "code",
   "execution_count": 11,
   "metadata": {},
   "outputs": [],
   "source": [
    "# district_info = pd.concat([district_info, corrupt_data], ignore_index=True)"
   ]
  },
  {
   "cell_type": "code",
   "execution_count": 12,
   "metadata": {},
   "outputs": [],
   "source": [
    "district_info.total = district_info.total.astype(int)\n"
   ]
  },
  {
   "cell_type": "code",
   "execution_count": 13,
   "metadata": {},
   "outputs": [],
   "source": [
    "district_info = district_info.replace({'district': {'Dhaka City':'Dhaka'}}).replace({'district': {'Dhaka (District)':'Dhaka'}}).groupby('district', as_index=False).sum().sort_values(by=['total'], ascending=False)"
   ]
  },
  {
   "cell_type": "code",
   "execution_count": 14,
   "metadata": {},
   "outputs": [
    {
     "name": "stdout",
     "output_type": "stream",
     "text": [
      "Number of districts:  64\n",
      "Total confirmed:  15551\n",
      "       district  total\n",
      "13        Dhaka   9190\n",
      "42  Narayanganj   1426\n",
      "9    Chattogram    619\n",
      "18      Gazipur    509\n",
      "38   Munshigonj    297\n",
      "..          ...    ...\n",
      "59    Sirajganj      7\n",
      "1      Bagerhat      6\n",
      "56     Satkhira      5\n",
      "36     Meherpur      5\n",
      "2     Bandarban      5\n",
      "\n",
      "[64 rows x 2 columns]\n"
     ]
    }
   ],
   "source": [
    "print(\"Number of districts: \", district_info.shape[0])\n",
    "print(\"Total confirmed: \", district_info['total'].sum())\n",
    "print(district_info)"
   ]
  },
  {
   "cell_type": "code",
   "execution_count": 15,
   "metadata": {},
   "outputs": [],
   "source": [
    "for d, t in zip(district_info['district'].tolist(), district_info['total'].tolist()):\n",
    "    if d in iedcr2bcc_district.keys():\n",
    "        d = iedcr2bcc_district[d]\n",
    "    #f.write(d + ',' + en2bn_district[d] + ',' + str(t) + \"\\n\")\n",
    "    f.write(d + ',,' + str(t) + \"\\n\")"
   ]
  },
  {
   "cell_type": "code",
   "execution_count": 16,
   "metadata": {},
   "outputs": [],
   "source": [
    "f.close()"
   ]
  },
  {
   "cell_type": "code",
   "execution_count": 17,
   "metadata": {},
   "outputs": [
    {
     "ename": "ValueError",
     "evalue": "No objects to concatenate",
     "output_type": "error",
     "traceback": [
      "\u001b[0;31m---------------------------------------------------------------------------\u001b[0m",
      "\u001b[0;31mValueError\u001b[0m                                Traceback (most recent call last)",
      "\u001b[0;32m<ipython-input-17-56e6071ca6fd>\u001b[0m in \u001b[0;36m<module>\u001b[0;34m\u001b[0m\n\u001b[1;32m      1\u001b[0m \u001b[0mf_area\u001b[0m \u001b[0;34m=\u001b[0m \u001b[0mopen\u001b[0m\u001b[0;34m(\u001b[0m\u001b[0;34mf\"./{month}/{date}/dhk_area.csv\"\u001b[0m\u001b[0;34m,\u001b[0m \u001b[0;34m\"w+\"\u001b[0m\u001b[0;34m)\u001b[0m\u001b[0;34m\u001b[0m\u001b[0;34m\u001b[0m\u001b[0m\n\u001b[1;32m      2\u001b[0m \u001b[0;34m\u001b[0m\u001b[0m\n\u001b[0;32m----> 3\u001b[0;31m \u001b[0mdhk_area_dat\u001b[0m \u001b[0;34m=\u001b[0m \u001b[0mpd\u001b[0m\u001b[0;34m.\u001b[0m\u001b[0mconcat\u001b[0m\u001b[0;34m(\u001b[0m\u001b[0mdf\u001b[0m\u001b[0;34m[\u001b[0m\u001b[0;36m1\u001b[0m\u001b[0;34m:\u001b[0m\u001b[0;34m-\u001b[0m\u001b[0;36m1\u001b[0m\u001b[0;34m]\u001b[0m\u001b[0;34m,\u001b[0m \u001b[0mignore_index\u001b[0m\u001b[0;34m=\u001b[0m\u001b[0;32mTrue\u001b[0m\u001b[0;34m)\u001b[0m\u001b[0;34m.\u001b[0m\u001b[0miloc\u001b[0m\u001b[0;34m[\u001b[0m\u001b[0;36m1\u001b[0m\u001b[0;34m:\u001b[0m\u001b[0;34m]\u001b[0m\u001b[0;34m\u001b[0m\u001b[0;34m\u001b[0m\u001b[0m\n\u001b[0m\u001b[1;32m      4\u001b[0m \u001b[0mdhk_area_dat\u001b[0m\u001b[0;34m.\u001b[0m\u001b[0mcolumns\u001b[0m \u001b[0;34m=\u001b[0m \u001b[0;34m[\u001b[0m\u001b[0;34m'area'\u001b[0m\u001b[0;34m,\u001b[0m \u001b[0;34m'total'\u001b[0m\u001b[0;34m]\u001b[0m\u001b[0;34m\u001b[0m\u001b[0;34m\u001b[0m\u001b[0m\n\u001b[1;32m      5\u001b[0m \u001b[0mdhk_area_dat\u001b[0m\u001b[0;34m.\u001b[0m\u001b[0mtotal\u001b[0m \u001b[0;34m=\u001b[0m \u001b[0mdhk_area_dat\u001b[0m\u001b[0;34m.\u001b[0m\u001b[0mtotal\u001b[0m\u001b[0;34m.\u001b[0m\u001b[0mastype\u001b[0m\u001b[0;34m(\u001b[0m\u001b[0mint\u001b[0m\u001b[0;34m)\u001b[0m\u001b[0;34m\u001b[0m\u001b[0;34m\u001b[0m\u001b[0m\n",
      "\u001b[0;32m~/covidTracker/bnDailyTracker/iedecr_scrpr/env/lib/python3.8/site-packages/pandas/core/reshape/concat.py\u001b[0m in \u001b[0;36mconcat\u001b[0;34m(objs, axis, join, ignore_index, keys, levels, names, verify_integrity, sort, copy)\u001b[0m\n\u001b[1;32m    269\u001b[0m     \u001b[0mValueError\u001b[0m\u001b[0;34m:\u001b[0m \u001b[0mIndexes\u001b[0m \u001b[0mhave\u001b[0m \u001b[0moverlapping\u001b[0m \u001b[0mvalues\u001b[0m\u001b[0;34m:\u001b[0m \u001b[0;34m[\u001b[0m\u001b[0;34m'a'\u001b[0m\u001b[0;34m]\u001b[0m\u001b[0;34m\u001b[0m\u001b[0;34m\u001b[0m\u001b[0m\n\u001b[1;32m    270\u001b[0m     \"\"\"\n\u001b[0;32m--> 271\u001b[0;31m     op = _Concatenator(\n\u001b[0m\u001b[1;32m    272\u001b[0m         \u001b[0mobjs\u001b[0m\u001b[0;34m,\u001b[0m\u001b[0;34m\u001b[0m\u001b[0;34m\u001b[0m\u001b[0m\n\u001b[1;32m    273\u001b[0m         \u001b[0maxis\u001b[0m\u001b[0;34m=\u001b[0m\u001b[0maxis\u001b[0m\u001b[0;34m,\u001b[0m\u001b[0;34m\u001b[0m\u001b[0;34m\u001b[0m\u001b[0m\n",
      "\u001b[0;32m~/covidTracker/bnDailyTracker/iedecr_scrpr/env/lib/python3.8/site-packages/pandas/core/reshape/concat.py\u001b[0m in \u001b[0;36m__init__\u001b[0;34m(self, objs, axis, join, keys, levels, names, ignore_index, verify_integrity, copy, sort)\u001b[0m\n\u001b[1;32m    327\u001b[0m \u001b[0;34m\u001b[0m\u001b[0m\n\u001b[1;32m    328\u001b[0m         \u001b[0;32mif\u001b[0m \u001b[0mlen\u001b[0m\u001b[0;34m(\u001b[0m\u001b[0mobjs\u001b[0m\u001b[0;34m)\u001b[0m \u001b[0;34m==\u001b[0m \u001b[0;36m0\u001b[0m\u001b[0;34m:\u001b[0m\u001b[0;34m\u001b[0m\u001b[0;34m\u001b[0m\u001b[0m\n\u001b[0;32m--> 329\u001b[0;31m             \u001b[0;32mraise\u001b[0m \u001b[0mValueError\u001b[0m\u001b[0;34m(\u001b[0m\u001b[0;34m\"No objects to concatenate\"\u001b[0m\u001b[0;34m)\u001b[0m\u001b[0;34m\u001b[0m\u001b[0;34m\u001b[0m\u001b[0m\n\u001b[0m\u001b[1;32m    330\u001b[0m \u001b[0;34m\u001b[0m\u001b[0m\n\u001b[1;32m    331\u001b[0m         \u001b[0;32mif\u001b[0m \u001b[0mkeys\u001b[0m \u001b[0;32mis\u001b[0m \u001b[0;32mNone\u001b[0m\u001b[0;34m:\u001b[0m\u001b[0;34m\u001b[0m\u001b[0;34m\u001b[0m\u001b[0m\n",
      "\u001b[0;31mValueError\u001b[0m: No objects to concatenate"
     ]
    }
   ],
   "source": [
    "f_area = open(f\"./{month}/{date}/dhk_area.csv\", \"w+\")\n",
    "\n",
    "dhk_area_dat = pd.concat(df[1:-1], ignore_index=True).iloc[1:]\n",
    "dhk_area_dat.columns = ['area', 'total']\n",
    "dhk_area_dat.total = dhk_area_dat.total.astype(int)\n",
    "\n",
    "print(\"Number of area: \", dhk_area_dat.shape[0])\n",
    "print(\"Total confirmed: \", dhk_area_dat['total'].sum())\n",
    "# with pd.option_context('display.max_rows', None, 'display.max_columns', None): \n",
    "#     print(dhk_area_dat)\n",
    "\n",
    "f_area.write(\"Number of area\" + \",\" + str(dhk_area_dat.shape[0]))  \n",
    "f_area.write(\"Total confirmed\" + \",\" + str(dhk_area_dat['total'].sum())) \n",
    "\n",
    "for a, t in zip(dhk_area_dat['area'].tolist(), dhk_area_dat['total'].tolist()):\n",
    "    print(a, t)\n",
    "#     if d in iedcr2bcc_district.keys():\n",
    "#         d = iedcr2bcc_district[d]\n",
    "    f_area.write(a + ',' + str(t) + \"\\n\")\n",
    "f_area.close()"
   ]
  }
 ],
 "metadata": {
  "kernelspec": {
   "display_name": "Python 3",
   "language": "python",
   "name": "python3"
  },
  "language_info": {
   "codemirror_mode": {
    "name": "ipython",
    "version": 3
   },
   "file_extension": ".py",
   "mimetype": "text/x-python",
   "name": "python",
   "nbconvert_exporter": "python",
   "pygments_lexer": "ipython3",
   "version": "3.8.2"
  },
  "varInspector": {
   "cols": {
    "lenName": 16,
    "lenType": 16,
    "lenVar": 40
   },
   "kernels_config": {
    "python": {
     "delete_cmd_postfix": "",
     "delete_cmd_prefix": "del ",
     "library": "var_list.py",
     "varRefreshCmd": "print(var_dic_list())"
    },
    "r": {
     "delete_cmd_postfix": ") ",
     "delete_cmd_prefix": "rm(",
     "library": "var_list.r",
     "varRefreshCmd": "cat(var_dic_list()) "
    }
   },
   "position": {
    "height": "391px",
    "left": "1445px",
    "right": "20px",
    "top": "120px",
    "width": "350px"
   },
   "types_to_exclude": [
    "module",
    "function",
    "builtin_function_or_method",
    "instance",
    "_Feature"
   ],
   "window_display": true
  }
 },
 "nbformat": 4,
 "nbformat_minor": 4
}
