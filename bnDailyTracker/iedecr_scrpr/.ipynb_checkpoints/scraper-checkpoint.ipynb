{
 "cells": [
  {
   "cell_type": "code",
   "execution_count": 1,
   "metadata": {},
   "outputs": [],
   "source": [
    "import tabula\n",
    "import pandas as pd"
   ]
  },
  {
   "cell_type": "code",
   "execution_count": 2,
   "metadata": {},
   "outputs": [
    {
     "data": {
      "text/plain": [
       "16"
      ]
     },
     "execution_count": 2,
     "metadata": {},
     "output_type": "execute_result"
    }
   ],
   "source": [
    "date = 22\n",
    "month = 'april'\n",
    "month_n = 4\n",
    "\n",
    "f = open(f\"./{month}/{date}/data.csv\", \"w+\")\n",
    "\n",
    "iedcr2bcc_district = {\n",
    "    \"B. Baria\": \"Brahamanbaria\",\n",
    "    \"Barishal\": \"Barisal\",\n",
    "    \"Bogra\": \"Bogura\"\n",
    "    # \"Chattogram\": \"Chittagong\",\n",
    "    \"Cox’s bazar\": \"Cox's Bazar\",\n",
    "    # \"Cumilla\": \"Comilla\",\n",
    "    \"Hobiganj\": \"Habiganj\",\n",
    "    \"Jhalokathi\": \"Jhalokati\",\n",
    "    \"Laksmipur\": \"Lakshmipur\",\n",
    "    \"Moulovi Bazar\": \"Maulvibazar\",\n",
    "    \"Munshigonj\": \"Munshiganj\",\n",
    "    \"Narshingdi\": \"Narsingdi\",\n",
    "    \"Netrokona\": \"Netrakona\",\n",
    "    \"Panchagar\": \"Panchagarh\",\n",
    "    \"Potuakhali\": \"Patuakhali\",\n",
    "    # \"Chapainawabganj\": \"Nawabganj\"\n",
    "}\n",
    "\n",
    "en2bn_district = {\n",
    "    \"Bagerhat\": \"বাগেরহাট\",\n",
    "    \"Bandarban\": \"বান্দরবান\",\n",
    "    \"Barguna\": \"বরগুনা\",\n",
    "    \"Barisal\": \"বরিশাল\",\n",
    "    \"Bhola\": \"ভোলা\",\n",
    "    \"Bogura\": \"বগুড়া\",\n",
    "    \"Brahamanbaria\": \"ব্রাহ্মণবাড়িয়া\",\n",
    "    \"Chandpur\": \"চাঁদপুর\",\n",
    "    \"Chattogram\": \"চট্টগ্রাম\",\n",
    "    \"Chuadanga\": \"চুয়াডাঙ্গা\",\n",
    "    \"Cumilla\": \"কুমিল্লা\",\n",
    "    \"Cox's Bazar\": \"কক্সবাজার\",\n",
    "    \"Dhaka\": \"ঢাকা\",\n",
    "    \"Dinajpur\": \"দিনাজপুর\",\n",
    "    \"Faridpur\": \"ফরিদপুর\",\n",
    "    \"Feni\": \"ফেনী\",\n",
    "    \"Gaibandha\": \"গাইবান্ধা\",\n",
    "    \"Gazipur\": \"গাজীপুর\",\n",
    "    \"Gopalganj\": \"গোপালগঞ্জ\",\n",
    "    \"Habiganj\": \"হবিগঞ্জ\",\n",
    "    \"Jamalpur\": \"জামালপুর\",\n",
    "    \"Jessore\": \"যশোর\",\n",
    "    \"Jhalokati\": \"ঝালকাঠি\",\n",
    "    \"Jhenaidah\": \"ঝিনাইদহ\",\n",
    "    \"Joypurhat\": \"জয়পুরহাট\",\n",
    "    \"Khagrachhari\": \"খাগড়াছড়ি\",\n",
    "    \"Khulna\": \"খুলনা\",\n",
    "    \"Kishoreganj\": \"কিশোরগঞ্জ\",\n",
    "    \"Kurigram\": \"কুড়িগ্রাম\",\n",
    "    \"Kushtia\": \"কুষ্টিয়া\",\n",
    "    \"Lakshmipur\": \"লক্ষ্মীপুর\",\n",
    "    \"Lalmonirhat\": \"লালমনিরহাট\",\n",
    "    \"Madaripur\": \"মাদারীপুর\",\n",
    "    \"Magura\": \"মাগুরা\",\n",
    "    \"Manikganj\": \"মানিকগঞ্জ\",\n",
    "    \"Maulvibazar\": \"মেহেরপুর\",\n",
    "    \"Meherpur\": \"মৌলভীবাজার\",\n",
    "    \"Munshiganj\": \"মুন্সিগঞ্জ\",\n",
    "    \"Mymensingh\": \"ময়মনসিংহ\",\n",
    "    \"Naogaon\": \"নওগাঁ\",\n",
    "    \"Narail\": \"নড়াইল\",\n",
    "    \"Narayanganj\": \"নারায়ণগঞ্জ\",\n",
    "    \"Narsingdi\": \"নরসিংদী\",\n",
    "    \"Natore\": \"নাটোর\",\n",
    "    \"Chapainawabganj\": \"চাঁপাইনবাবগঞ্জ\",\n",
    "    \"Netrakona\": \"নেত্রকোণা\",\n",
    "    \"Nilphamari\": \"নীলফামারী\",\n",
    "    \"Noakhali\": \"নোয়াখালী\",\n",
    "    \"Pabna\": \"পাবনা\",\n",
    "    \"Panchagarh\": \"পঞ্চগড়\",\n",
    "    \"Patuakhali\": \"পটুয়াখালী\",\n",
    "    \"Pirojpur\": \"পিরোজপুর\",\n",
    "    \"Rajbari\": \"রাজবাড়ী\",\n",
    "    \"Rajshahi\": \"রাজশাহী\",\n",
    "    \"Rangamati\": \"রাঙ্গামাটি\",\n",
    "    \"Rangpur\": \"রংপুর\",\n",
    "    \"Satkhira\": \"সাতক্ষীরা\",\n",
    "    \"Shariatpur\": \"শরীয়তপুর\",\n",
    "    \"Sherpur\": \"শেরপুর\",\n",
    "    \"Sirajganj\": \"সিরাজগঞ্জ\",\n",
    "    \"Sunamganj\": \"সুনামগঞ্জ\",\n",
    "    \"Sylhet\": \"সিলেট\",\n",
    "    \"Tangail\": \"টাঙ্গাইল\",\n",
    "    \"Thakurgaon\": \"ঠাকুরগাঁও\"\n",
    "}\n",
    "\n",
    "\n",
    "\n",
    "f.write(\"date\" + ',,' + f'{date}.{month_n}.2020' + '\\n')"
   ]
  },
  {
   "cell_type": "code",
   "execution_count": 3,
   "metadata": {},
   "outputs": [
    {
     "name": "stderr",
     "output_type": "stream",
     "text": [
      "Got stderr: Apr 22, 2020 8:46:44 AM org.apache.pdfbox.pdmodel.font.PDCIDFontType2 <init>\n",
      "INFO: OpenType Layout tables used in font ABCDEE+Calibri are not implemented in PDFBox and will be ignored\n",
      "Apr 22, 2020 8:46:44 AM org.apache.pdfbox.pdmodel.font.PDCIDFontType2 <init>\n",
      "INFO: OpenType Layout tables used in font ABCDEE+Calibri are not implemented in PDFBox and will be ignored\n",
      "Apr 22, 2020 8:46:45 AM org.apache.pdfbox.pdmodel.font.PDCIDFontType2 <init>\n",
      "INFO: OpenType Layout tables used in font ABCDEE+Calibri are not implemented in PDFBox and will be ignored\n",
      "\n"
     ]
    }
   ],
   "source": [
    "df = tabula.read_pdf(f\"./{month}/{date}/data.pdf\", pages='all', pandas_options={\"header\": None})\n"
   ]
  },
  {
   "cell_type": "code",
   "execution_count": 4,
   "metadata": {},
   "outputs": [
    {
     "data": {
      "text/plain": [
       "[           0                 1      2         3              4\n",
       " 0   Division     District/City  Total  Division  Percentage(%)\n",
       " 1        NaN        Dhaka City   1229      1229         36.34%\n",
       " 2        NaN  Dhaka (District)     48       NaN            NaN\n",
       " 3        NaN           Gazipur    269       NaN            NaN\n",
       " 4        NaN       Kishoreganj    146       NaN            NaN\n",
       " ..       ...               ...    ...       ...            ...\n",
       " 56       NaN   Chapainawabganj      1       NaN            NaN\n",
       " 57  Rajshahi             Bogra      2        21          0.62%\n",
       " 58       NaN           Naogaon      1       NaN            NaN\n",
       " 59       NaN         Sirajganj      2       NaN            NaN\n",
       " 60       NaN          Rajshahi      9       NaN            NaN\n",
       " \n",
       " [61 rows x 5 columns],\n",
       "                 0      1\n",
       " 0        Location  Total\n",
       " 1          Adabor      5\n",
       " 2        Agargaon      5\n",
       " 3       Aminbazar      1\n",
       " 4        Amlapara      1\n",
       " 5      Armanitola      1\n",
       " 6         Ashkona      1\n",
       " 7         Azimpur     15\n",
       " 8      Babu Bazar     11\n",
       " 9           Badda      9\n",
       " 10     Baily Road      3\n",
       " 11       Banasree      1\n",
       " 12         Banani      8\n",
       " 13    Banglamotor      1\n",
       " 14       Bangshal     31\n",
       " 15     Banianagar      1\n",
       " 16         Basabo     19\n",
       " 17    Bashundhora      6\n",
       " 18      Begunbari      1\n",
       " 19    Begum Bazar      1\n",
       " 20       Beribadh      1\n",
       " 21   Bokshi Bazar      1\n",
       " 22         Bosila      1\n",
       " 23      Buet Area      1\n",
       " 24     Cantonment      2\n",
       " 25   Central Road      1\n",
       " 26   Chankharpool      8\n",
       " 27    Chawk Bazar     31\n",
       " 28    Dhakkeshori      1\n",
       " 29          Demra      6\n",
       " 30      Dhanmondi     26\n",
       " 31     Dholaikhal      2\n",
       " 32       Doyaganj      2\n",
       " 33  Elephant Road      2\n",
       " 34        Eskaton      8\n",
       " 35     Faridabagh      1,\n",
       "                  0   1\n",
       " 0       Fakirapool   1\n",
       " 1         Farmgate   2\n",
       " 2         Gendaria  21\n",
       " 3         Golartek   1\n",
       " 4            Goran   3\n",
       " 5        Gonoktuli   2\n",
       " 6          Gopibag   6\n",
       " 7       Green Road  10\n",
       " 8         Gulistan   4\n",
       " 9          Gulshan  19\n",
       " 10      Hatir jhil   1\n",
       " 11       Hatirpool   3\n",
       " 12      Hazaribagh  18\n",
       " 13      Ibrahimpur   2\n",
       " 14        Islampur   2\n",
       " 15        Jailgate   2\n",
       " 16       Jatrabari  35\n",
       " 17        Jigatala   5\n",
       " 18          Jurain   9\n",
       " 19      Kallyanpur   2\n",
       " 20       Kalabagan   4\n",
       " 21         Kakrail   2\n",
       " 22     Kathalbagan   1\n",
       " 23       Kamalapur   1\n",
       " 24  Kamrangir Char   4\n",
       " 25       Kazi para   6\n",
       " 26    Kawran Bazar   3\n",
       " 27       Kochukhet   1\n",
       " 28        Khilgaon   5\n",
       " 29        Khilkhet   1\n",
       " 30      Koltabazar   1\n",
       " 31       Kodomtoli   2\n",
       " 32        Kotowali   7\n",
       " 33           Kuril   1\n",
       " 34         Lalbagh  35\n",
       " 35      Laxmibazar   5,\n",
       "                 0   1\n",
       " 0        Madartek   1\n",
       " 1        Malitola   1\n",
       " 2        Malibagh   4\n",
       " 3      Maniknagar   2\n",
       " 4         Manikdi   1\n",
       " 5         Matuail   3\n",
       " 6   Mirhajaribagh   2\n",
       " 7        Mirpur-1  11\n",
       " 8        Mirpur-2   1\n",
       " 9        Mirpur-6   4\n",
       " 10      Mirpur-10   8\n",
       " 11      Mirpur-11  16\n",
       " 12      Mirpur-12  12\n",
       " 13      Mirpur-13   2\n",
       " 14      Mirpur-14  21\n",
       " 15        Mitford  28\n",
       " 16       Mogbazar  14\n",
       " 17      Mohakhali  17\n",
       " 18       Mohonpur   1\n",
       " 19    Mohammadpur  44\n",
       " 20       Motijeel   1\n",
       " 21          Mugda   8\n",
       " 22       Nawabpur   1\n",
       " 23    Nazirabazar   2\n",
       " 24      Nawabganj   4\n",
       " 25        Narinda   8\n",
       " 26        Nilkhet   1\n",
       " 27     Nakhalpara   6\n",
       " 28      Nayabazar   7\n",
       " 29       Neemtoli   4\n",
       " 30        Nikunja   1\n",
       " 31        Pallabi   2\n",
       " 32      Pirerbagh   2\n",
       " 33      Postogola   2\n",
       " 34  Purana Paltan   2\n",
       " 35      Rajarbagh  50,\n",
       "                 0   1\n",
       " 0           Ramna   5\n",
       " 1       Rayerbagh   1\n",
       " 2      Raja Bazar   1\n",
       " 3      Rayerbazar   2\n",
       " 4       Sabujbagh   4\n",
       " 5       Sadarghat   3\n",
       " 6       Sahjanpur   4\n",
       " 7       Sayedabad   2\n",
       " 8    Segunbagicha   1\n",
       " 9     Science Lab   1\n",
       " 10  Shah Ali Bagh   2\n",
       " 11        Shahbag  11\n",
       " 12  Shakharibazar  20\n",
       " 13     Shantibagh   1\n",
       " 14        Shampur   1\n",
       " 15    Shantinagar  10\n",
       " 16       Shaymoli   7\n",
       " 17     Shewrapara   4\n",
       " 18    Shekher Tek   1\n",
       " 19   Showari Ghat   3\n",
       " 20   Siddheshwari   4\n",
       " 21    Sonir akhra   3\n",
       " 22       Sutrapur  12\n",
       " 23      TatiBazar   2\n",
       " 24       Tikatoli   8\n",
       " 25        Tejgaon  23\n",
       " 26          Turag   1\n",
       " 27  Tezturi Bazar   1\n",
       " 28       Tolarbag  19\n",
       " 29      Urdu Road   1\n",
       " 30         Uttara  23\n",
       " 31         Vatara   1\n",
       " 32           Wari  30]"
      ]
     },
     "execution_count": 4,
     "metadata": {},
     "output_type": "execute_result"
    }
   ],
   "source": [
    "df"
   ]
  },
  {
   "cell_type": "code",
   "execution_count": 5,
   "metadata": {},
   "outputs": [],
   "source": [
    "# district_info = pd.concat([df[0], df[1]], ignore_index=True).iloc[1:]\n",
    "district_info = df[0].iloc[1:]"
   ]
  },
  {
   "cell_type": "code",
   "execution_count": 6,
   "metadata": {},
   "outputs": [],
   "source": [
    "#corrupt_data = district_info[district_info[2].isnull()]"
   ]
  },
  {
   "cell_type": "code",
   "execution_count": 7,
   "metadata": {},
   "outputs": [],
   "source": [
    "# corrupt_data = corrupt_data.drop(corrupt_data.columns[[2,3]], axis=1).dropna(how='any')"
   ]
  },
  {
   "cell_type": "code",
   "execution_count": 8,
   "metadata": {
    "scrolled": true
   },
   "outputs": [],
   "source": [
    "columns_to_be_dropped = district_info.columns[[0, 3, 4]]"
   ]
  },
  {
   "cell_type": "code",
   "execution_count": 9,
   "metadata": {},
   "outputs": [],
   "source": [
    "district_info = district_info.drop(columns_to_be_dropped, axis=1).dropna(how='any')"
   ]
  },
  {
   "cell_type": "code",
   "execution_count": 10,
   "metadata": {},
   "outputs": [],
   "source": [
    "# corrupt_data.columns = ['district', 'total']\n",
    "district_info.columns =  ['district', 'total']"
   ]
  },
  {
   "cell_type": "code",
   "execution_count": 11,
   "metadata": {},
   "outputs": [],
   "source": [
    "# district_info = pd.concat([district_info, corrupt_data], ignore_index=True)"
   ]
  },
  {
   "cell_type": "code",
   "execution_count": 12,
   "metadata": {},
   "outputs": [],
   "source": [
    "district_info.total = district_info.total.astype(int)"
   ]
  },
  {
   "cell_type": "code",
   "execution_count": 13,
   "metadata": {},
   "outputs": [],
   "source": [
    "district_info = district_info.replace({'district': {'Dhaka City':'Dhaka'}}).replace({'district': {'Dhaka (District)':'Dhaka'}}).groupby('district', as_index=False).sum().sort_values(by=['total'], ascending=False)"
   ]
  },
  {
   "cell_type": "code",
   "execution_count": 14,
   "metadata": {},
   "outputs": [
    {
     "name": "stdout",
     "output_type": "stream",
     "text": [
      "Number of districts:  55\n",
      "Total confirmed:  2841\n",
      "           district  total\n",
      "12            Dhaka   1277\n",
      "36      Narayanganj    469\n",
      "17          Gazipur    269\n",
      "25      Kishoreganj    146\n",
      "37       Narshingdi    136\n",
      "32       Munshigonj     54\n",
      "8        Chattogram     41\n",
      "33       Mymensingh     40\n",
      "4          Barishal     32\n",
      "18        Gopalganj     30\n",
      "29        Madaripur     26\n",
      "11          Cumilla     25\n",
      "27        Laksmipur     25\n",
      "20         Jamalpur     22\n",
      "49          Sherpur     19\n",
      "38        Netrokona     18\n",
      "3           Barguna     17\n",
      "16        Gaibandha     13\n",
      "53          Tangail     13\n",
      "0          B. Baria     11\n",
      "19         Hobiganj     11\n",
      "13         Dinajpur     11\n",
      "45          Rajbari     10\n",
      "6          Chandpur     10\n",
      "30        Manikganj      9\n",
      "46         Rajshahi      9\n",
      "39       Nilphamari      9\n",
      "48       Shariatpur      8\n",
      "47          Rangpur      7\n",
      "44       Potuakhali      7\n",
      "54       Thakurgaon      6\n",
      "43         Pirojpur      5\n",
      "10      Cox’s bazar      5\n",
      "14         Faridpur      5\n",
      "52           Sylhet      4\n",
      "22       Jhalokathi      4\n",
      "40         Noakhali      4\n",
      "26         Kurigram      3\n",
      "23        Joypurhat      3\n",
      "24           Khulna      3\n",
      "41            Pabna      3\n",
      "15             Feni      3\n",
      "50        Sirajganj      2\n",
      "5             Bogra      2\n",
      "31    Moulovi Bazar      2\n",
      "28      Lalmonirhat      2\n",
      "9         Chuadanga      2\n",
      "35           Narail      2\n",
      "42        Panchagar      1\n",
      "1          Bagerhat      1\n",
      "21          Jessore      1\n",
      "51        Sunamganj      1\n",
      "34          Naogaon      1\n",
      "2         Bandarban      1\n",
      "7   Chapainawabganj      1\n"
     ]
    }
   ],
   "source": [
    "print(\"Number of districts: \", district_info.shape[0])\n",
    "print(\"Total confirmed: \", district_info['total'].sum())\n",
    "print(district_info)"
   ]
  },
  {
   "cell_type": "code",
   "execution_count": 15,
   "metadata": {},
   "outputs": [],
   "source": [
    "for d, t in zip(district_info['district'].tolist(), district_info['total'].tolist()):\n",
    "    if d in iedcr2bcc_district.keys():\n",
    "        d = iedcr2bcc_district[d]\n",
    "    #f.write(d + ',' + en2bn_district[d] + ',' + str(t) + \"\\n\")\n",
    "    f.write(d + ',,' + str(t) + \"\\n\")"
   ]
  },
  {
   "cell_type": "code",
   "execution_count": 16,
   "metadata": {},
   "outputs": [],
   "source": [
    "f.close()"
   ]
  }
 ],
 "metadata": {
  "kernelspec": {
   "display_name": "Python 3",
   "language": "python",
   "name": "python3"
  },
  "language_info": {
   "codemirror_mode": {
    "name": "ipython",
    "version": 3
   },
   "file_extension": ".py",
   "mimetype": "text/x-python",
   "name": "python",
   "nbconvert_exporter": "python",
   "pygments_lexer": "ipython3",
   "version": "3.6.9"
  }
 },
 "nbformat": 4,
 "nbformat_minor": 4
}
