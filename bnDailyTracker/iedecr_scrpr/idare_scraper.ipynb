{
 "cells": [
  {
   "cell_type": "code",
   "execution_count": 1,
   "metadata": {},
   "outputs": [],
   "source": [
    "\n",
    "iedcr2bcc_district = {\n",
    "    \"B. Baria\": \"Brahamanbaria\",\n",
    "    \"Barishal\": \"Barisal\",\n",
    "    \"Chattogram\": \"Chittagong\",\n",
    "    \"Cox’s bazar\": \"Cox's Bazar\",\n",
    "    \"Cumilla\": \"Comilla\",\n",
    "    \"Hobiganj\": \"Habiganj\",\n",
    "    \"Jhalokathi\": \"Jhalokati\",\n",
    "    \"Khagrachari\": \"Khagrachhari\",\n",
    "    \"Laksmipur\": \"Lakshmipur\",\n",
    "    \"Moulovi Bazar\": \"Maulvibazar\",\n",
    "    \"Munshigonj\": \"Munshiganj\",\n",
    "    \"Narshingdi\": \"Narsingdi\",\n",
    "    \"Netrokona\": \"Netrakona\",\n",
    "    \"Panchagar\": \"Panchagarh\",\n",
    "    \"Potuakhali\": \"Patuakhali\",\n",
    "    \"Rangmati\": \"Rangamati\",\n",
    "    \"Chapainawabganj\": \"Nawabganj\"\n",
    "}\n",
    "\n",
    "arcGis_district_url = \"https://services3.arcgis.com/nIl76MjbPamkQiu8/arcgis/rest/services/districts_wise_corona_data/FeatureServer/0/query?f=json&where=1%3D1&returnGeometry=false&spatialRel=esriSpatialRelIntersects&outFields=*&orderByFields=confirmed%20desc&outSR=102100&resultOffset=0&resultRecordCount=64&resultType=standard&cacheHint=true\""
   ]
  },
  {
   "cell_type": "code",
   "execution_count": 2,
   "metadata": {},
   "outputs": [],
   "source": [
    "import requests\n",
    "\n",
    "district_response = requests.get(arcGis_district_url)"
   ]
  },
  {
   "cell_type": "code",
   "execution_count": 7,
   "metadata": {},
   "outputs": [
    {
     "name": "stdout",
     "output_type": "stream",
     "text": [
      "Number of districts 63\n",
      "OrderedDict([('Narayanganj', 1599),\n",
      "             ('Chattogram', 1248),\n",
      "             ('Gazipur', 542),\n",
      "             ('Cumilla', 420),\n",
      "             ('Munshigonj', 400),\n",
      "             ('Mymensingh', 358),\n",
      "             ('Rangpur', 354),\n",
      "             ('Coxsbazar', 259),\n",
      "             ('Kishoreganj', 211),\n",
      "             ('Noakhali', 207),\n",
      "             ('Narshingdi', 175),\n",
      "             ('Netrokona', 164),\n",
      "             ('Jamalpur', 157),\n",
      "             ('Gopalganj', 129),\n",
      "             ('Jessore', 116),\n",
      "             ('Faridpur', 114),\n",
      "             ('Hobiganj', 112),\n",
      "             ('Laksmipur', 104),\n",
      "             ('Joypurhat', 97),\n",
      "             ('Feni', 91),\n",
      "             ('Chandpur', 89),\n",
      "             ('Chuadanga', 89),\n",
      "             ('Shariatpur', 81),\n",
      "             ('Dinajpur', 78),\n",
      "             ('Madaripur', 71),\n",
      "             ('B. Baria', 68),\n",
      "             ('Sherpur', 66),\n",
      "             ('Manikganj', 63),\n",
      "             ('Barishal', 63),\n",
      "             ('Bogra', 63),\n",
      "             ('Nilphamari', 60),\n",
      "             ('Kurigram', 58),\n",
      "             ('Naogaon', 54),\n",
      "             ('Sunamganj', 52),\n",
      "             ('Natore', 49),\n",
      "             ('Sylhet', 48),\n",
      "             ('Jhenaidah', 47),\n",
      "             ('Rajshahi', 47),\n",
      "             ('Rangmati', 44),\n",
      "             ('Chapainawabganj', 44),\n",
      "             ('Tangail', 43),\n",
      "             ('Moulovi Bazar', 40),\n",
      "             ('Khulna', 39),\n",
      "             ('Kushtia', 37),\n",
      "             ('Barguna', 37),\n",
      "             ('Rajbari', 36),\n",
      "             ('Thakurgaon', 35),\n",
      "             ('Satkhira', 32),\n",
      "             ('Potuakhali', 30),\n",
      "             ('Pabna', 29),\n",
      "             ('Gaibandha', 26),\n",
      "             ('Lalmonirhat', 26),\n",
      "             ('Panchagar', 24),\n",
      "             ('Magura', 23),\n",
      "             ('Narail', 20),\n",
      "             ('Khagrachari', 16),\n",
      "             ('Jhalokathi', 16),\n",
      "             ('Bagerhat', 13),\n",
      "             ('Bhola', 13),\n",
      "             ('Bandarban', 9),\n",
      "             ('Sirajganj', 9),\n",
      "             ('Pirojpur', 7),\n",
      "             ('Dhaka', 13058)])\n"
     ]
    }
   ],
   "source": [
    "import json\n",
    "from pprint import pprint\n",
    "from collections import OrderedDict\n",
    "\n",
    "district_json = json.loads(district_response.text)\n",
    "district_confirm_dict = OrderedDict()\n",
    "\n",
    "dhaka_city_count = 0\n",
    "for attr in district_json['features']:\n",
    "    name = attr['attributes']['name']\n",
    "    confirmed = attr['attributes']['confirmed']\n",
    "    if name in ['Dhaka City', 'Dhaka (District)']:\n",
    "        dhaka_city_count += confirmed\n",
    "    else:\n",
    "        district_confirm_dict[name] = confirmed\n",
    "\n",
    "district_confirm_dict['Dhaka'] = dhaka_city_count\n",
    "        \n",
    "print(\"Number of districts\", len(district_confirm_dict))    \n",
    "pprint(district_confirm_dict)"
   ]
  },
  {
   "cell_type": "code",
   "execution_count": 8,
   "metadata": {},
   "outputs": [],
   "source": [
    "district_confirm_dict['Meherpur'] = 5"
   ]
  },
  {
   "cell_type": "code",
   "execution_count": 9,
   "metadata": {},
   "outputs": [],
   "source": [
    "date = 21\n",
    "month = 'may'\n",
    "month_n = 5\n",
    "\n",
    "f_dist = open(f\"./{month}/{date}/data.csv\", \"w+\")\n",
    "\n",
    "for d in district_confirm_dict:\n",
    "    if d in iedcr2bcc_district.keys():\n",
    "        district = iedcr2bcc_district[d]\n",
    "    else:\n",
    "        district = d\n",
    "        \n",
    "    f_dist.write(district + ',,' + str(district_confirm_dict[d]) + \"\\n\")\n",
    "\n",
    "f_dist.close()"
   ]
  }
 ],
 "metadata": {
  "kernelspec": {
   "display_name": "Python 3",
   "language": "python",
   "name": "python3"
  },
  "language_info": {
   "codemirror_mode": {
    "name": "ipython",
    "version": 3
   },
   "file_extension": ".py",
   "mimetype": "text/x-python",
   "name": "python",
   "nbconvert_exporter": "python",
   "pygments_lexer": "ipython3",
   "version": "3.8.2"
  }
 },
 "nbformat": 4,
 "nbformat_minor": 4
}
