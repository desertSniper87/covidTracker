{
 "cells": [
  {
   "cell_type": "code",
   "execution_count": 14,
   "metadata": {},
   "outputs": [
    {
     "name": "stdout",
     "output_type": "stream",
     "text": [
      "3.6.9\n"
     ]
    }
   ],
   "source": [
    "from platform import python_version\n",
    "\n",
    "print(python_version())"
   ]
  },
  {
   "cell_type": "code",
   "execution_count": 15,
   "metadata": {},
   "outputs": [],
   "source": [
    "import tabula\n",
    "import pandas as pd"
   ]
  },
  {
   "cell_type": "code",
   "execution_count": 16,
   "metadata": {},
   "outputs": [
    {
     "data": {
      "text/plain": [
       "16"
      ]
     },
     "execution_count": 16,
     "metadata": {},
     "output_type": "execute_result"
    }
   ],
   "source": [
    "date = 25\n",
    "month = 'april'\n",
    "month_n = 4\n",
    "\n",
    "f = open(f\"./{month}/{date}/data.csv\", \"w+\")\n",
    "\n",
    "iedcr2bcc_district = {\n",
    "    \"B. Baria\": \"Brahamanbaria\",\n",
    "    \"Barishal\": \"Barisal\",\n",
    "    # \"Bogra\": \"Bogura\",\n",
    "    \"Chattogram\": \"Chittagong\",\n",
    "    \"Cox’s bazar\": \"Cox's Bazar\",\n",
    "    \"Cumilla\": \"Comilla\",\n",
    "    \"Hobiganj\": \"Habiganj\",\n",
    "    \"Jhalokathi\": \"Jhalokati\",\n",
    "    \"Laksmipur\": \"Lakshmipur\",\n",
    "    \"Moulovi Bazar\": \"Maulvibazar\",\n",
    "    \"Munshigonj\": \"Munshiganj\",\n",
    "    \"Narshingdi\": \"Narsingdi\",\n",
    "    \"Netrokona\": \"Netrakona\",\n",
    "    \"Panchagar\": \"Panchagarh\",\n",
    "    \"Potuakhali\": \"Patuakhali\",\n",
    "    \"Chapainawabganj\": \"Nawabganj\"\n",
    "}\n",
    "\n",
    "en2bn_district = {\n",
    "    \"Bagerhat\": \"বাগেরহাট\",\n",
    "    \"Bandarban\": \"বান্দরবান\",\n",
    "    \"Barguna\": \"বরগুনা\",\n",
    "    \"Barisal\": \"বরিশাল\",\n",
    "    \"Bhola\": \"ভোলা\",\n",
    "    \"Bogra\": \"বগুড়া\",\n",
    "    \"Brahamanbaria\": \"ব্রাহ্মণবাড়িয়া\",\n",
    "    \"Chandpur\": \"চাঁদপুর\",\n",
    "    \"Chittagong\": \"চট্টগ্রাম\",\n",
    "    \"Chuadanga\": \"চুয়াডাঙ্গা\",\n",
    "    \"Comilla\": \"কুমিল্লা\",\n",
    "    \"Cox's Bazar\": \"কক্সবাজার\",\n",
    "    \"Dhaka\": \"ঢাকা\",\n",
    "    \"Dinajpur\": \"দিনাজপুর\",\n",
    "    \"Faridpur\": \"ফরিদপুর\",\n",
    "    \"Feni\": \"ফেনী\",\n",
    "    \"Gaibandha\": \"গাইবান্ধা\",\n",
    "    \"Gazipur\": \"গাজীপুর\",\n",
    "    \"Gopalganj\": \"গোপালগঞ্জ\",\n",
    "    \"Habiganj\": \"হবিগঞ্জ\",\n",
    "    \"Jamalpur\": \"জামালপুর\",\n",
    "    \"Jessore\": \"যশোর\",\n",
    "    \"Jhalokati\": \"ঝালকাঠি\",\n",
    "    \"Jhenaidah\": \"ঝিনাইদহ\",\n",
    "    \"Joypurhat\": \"জয়পুরহাট\",\n",
    "    \"Khagrachhari\": \"খাগড়াছড়ি\",\n",
    "    \"Khulna\": \"খুলনা\",\n",
    "    \"Kishoreganj\": \"কিশোরগঞ্জ\",\n",
    "    \"Kurigram\": \"কুড়িগ্রাম\",\n",
    "    \"Kushtia\": \"কুষ্টিয়া\",\n",
    "    \"Lakshmipur\": \"লক্ষ্মীপুর\",\n",
    "    \"Lalmonirhat\": \"লালমনিরহাট\",\n",
    "    \"Madaripur\": \"মাদারীপুর\",\n",
    "    \"Magura\": \"মাগুরা\",\n",
    "    \"Manikganj\": \"মানিকগঞ্জ\",\n",
    "    \"Maulvibazar\": \"মেহেরপুর\",\n",
    "    \"Meherpur\": \"মৌলভীবাজার\",\n",
    "    \"Munshiganj\": \"মুন্সিগঞ্জ\",\n",
    "    \"Mymensingh\": \"ময়মনসিংহ\",\n",
    "    \"Naogaon\": \"নওগাঁ\",\n",
    "    \"Narail\": \"নড়াইল\",\n",
    "    \"Narayanganj\": \"নারায়ণগঞ্জ\",\n",
    "    \"Narsingdi\": \"নরসিংদী\",\n",
    "    \"Natore\": \"নাটোর\",\n",
    "    \"Nawabganj\": \"চাঁপাইনবাবগঞ্জ\",\n",
    "    \"Netrakona\": \"নেত্রকোণা\",\n",
    "    \"Nilphamari\": \"নীলফামারী\",\n",
    "    \"Noakhali\": \"নোয়াখালী\",\n",
    "    \"Pabna\": \"পাবনা\",\n",
    "    \"Panchagarh\": \"পঞ্চগড়\",\n",
    "    \"Patuakhali\": \"পটুয়াখালী\",\n",
    "    \"Pirojpur\": \"পিরোজপুর\",\n",
    "    \"Rajbari\": \"রাজবাড়ী\",\n",
    "    \"Rajshahi\": \"রাজশাহী\",\n",
    "    \"Rangamati\": \"রাঙ্গামাটি\",\n",
    "    \"Rangpur\": \"রংপুর\",\n",
    "    \"Satkhira\": \"সাতক্ষীরা\",\n",
    "    \"Shariatpur\": \"শরীয়তপুর\",\n",
    "    \"Sherpur\": \"শেরপুর\",\n",
    "    \"Sirajganj\": \"সিরাজগঞ্জ\",\n",
    "    \"Sunamganj\": \"সুনামগঞ্জ\",\n",
    "    \"Sylhet\": \"সিলেট\",\n",
    "    \"Tangail\": \"টাঙ্গাইল\",\n",
    "    \"Thakurgaon\": \"ঠাকুরগাঁও\"\n",
    "}\n",
    "\n",
    "\n",
    "\n",
    "f.write(\"date\" + ',,' + f'{date}.{month_n}.2020' + '\\n')"
   ]
  },
  {
   "cell_type": "code",
   "execution_count": 17,
   "metadata": {},
   "outputs": [
    {
     "name": "stderr",
     "output_type": "stream",
     "text": [
      "Got stderr: Apr 25, 2020 4:35:28 PM org.apache.pdfbox.pdmodel.font.PDCIDFontType2 <init>\n",
      "INFO: OpenType Layout tables used in font ABCDEE+Calibri are not implemented in PDFBox and will be ignored\n",
      "Apr 25, 2020 4:35:29 PM org.apache.pdfbox.pdmodel.font.PDCIDFontType2 <init>\n",
      "INFO: OpenType Layout tables used in font ABCDEE+Calibri are not implemented in PDFBox and will be ignored\n",
      "Apr 25, 2020 4:35:29 PM org.apache.pdfbox.pdmodel.font.PDCIDFontType2 <init>\n",
      "INFO: OpenType Layout tables used in font ABCDEE+Calibri are not implemented in PDFBox and will be ignored\n",
      "\n"
     ]
    }
   ],
   "source": [
    "df = tabula.read_pdf(f\"./{month}/{date}/data.pdf\", pages='all', pandas_options={\"header\": None})"
   ]
  },
  {
   "cell_type": "code",
   "execution_count": 18,
   "metadata": {},
   "outputs": [
    {
     "name": "stdout",
     "output_type": "stream",
     "text": [
      "[]\n"
     ]
    }
   ],
   "source": [
    "with pd.option_context('display.max_rows', None, 'display.max_columns', None): \n",
    "    print(df[1:])\n"
   ]
  },
  {
   "cell_type": "code",
   "execution_count": 19,
   "metadata": {},
   "outputs": [],
   "source": [
    "# dhk_area_dat = pd.concat(df[1:-1], ignore_index=True).iloc[1:]\n",
    "# dhk_area_dat.columns = ['area', 'total']\n",
    "# dhk_area_dat.total = dhk_area_dat.total.astype(int)\n",
    "\n",
    "# print(\"Number of area: \", dhk_area_dat.shape[0])\n",
    "# print(\"Total confirmed: \", dhk_area_dat['total'].sum())\n",
    "# with pd.option_context('display.max_rows', None, 'display.max_columns', None): \n",
    "#     print(dhk_area_dat)"
   ]
  },
  {
   "cell_type": "code",
   "execution_count": 20,
   "metadata": {},
   "outputs": [],
   "source": [
    "# district_info = pd.concat([df[0], df[1]], ignore_index=True).iloc[1:]\n",
    "district_info = df[0].iloc[1:]"
   ]
  },
  {
   "cell_type": "code",
   "execution_count": 21,
   "metadata": {},
   "outputs": [],
   "source": [
    "#corrupt_data = district_info[district_info[2].isnull()]\n",
    "#corrupt_data = corrupt_data.drop(corrupt_data.columns[[2,3]], axis=1).dropna(how='any')"
   ]
  },
  {
   "cell_type": "code",
   "execution_count": 22,
   "metadata": {
    "scrolled": true
   },
   "outputs": [
    {
     "name": "stdout",
     "output_type": "stream",
     "text": [
      "[             0                 1      2       3         4       5\n",
      "0     Division     District/City  Total     NaN  Division       %\n",
      "1          NaN        Dhaka City    NaN  2228.0      2228  51.50%\n",
      "2          NaN  Dhaka (District)    NaN    71.0       NaN     NaN\n",
      "3          NaN           Gazipur    NaN   261.0       NaN     NaN\n",
      "4          NaN       Kishoreganj    NaN   181.0       NaN     NaN\n",
      "5          NaN         Madaripur    NaN    29.0       NaN     NaN\n",
      "6          NaN         Manikganj    NaN    12.0       NaN     NaN\n",
      "7          NaN       Narayanganj    NaN   594.0       NaN     NaN\n",
      "8        Dhaka               NaN    NaN     NaN       NaN     NaN\n",
      "9          NaN        Munshigonj    NaN    62.0      1454  33.61%\n",
      "10         NaN        Narshingdi    NaN   141.0       NaN     NaN\n",
      "11         NaN           Rajbari    NaN    12.0       NaN     NaN\n",
      "12         NaN          Faridpur    NaN     9.0       NaN     NaN\n",
      "13         NaN           Tangail    NaN    22.0       NaN     NaN\n",
      "14         NaN        Shariatpur    NaN    14.0       NaN     NaN\n",
      "15         NaN         Gopalganj    NaN    46.0       NaN     NaN\n",
      "16         NaN        Chattogram    NaN    46.0       NaN     NaN\n",
      "17         NaN       Cox’s bazar    NaN     6.0       NaN     NaN\n",
      "18         NaN           Cumilla    NaN    39.0       NaN     NaN\n",
      "19         NaN          B. Baria    NaN    29.0       NaN     NaN\n",
      "20  Chattogram         Laksmipur    NaN    28.0       170   3.93%\n",
      "21         NaN         Bandarban    NaN     4.0       NaN     NaN\n",
      "22         NaN          Noakhali    NaN     5.0       NaN     NaN\n",
      "23         NaN              Feni    NaN     3.0       NaN     NaN\n",
      "24         NaN          Chandpur    NaN    10.0       NaN     NaN\n",
      "25         NaN     Moulovi Bazar    NaN     4.0       NaN     NaN\n",
      "26         NaN         Sunamganj    NaN    13.0       NaN     NaN\n",
      "27      Sylhet               NaN    NaN     NaN        69   1.60%\n",
      "28         NaN          Hobiganj    NaN    41.0       NaN     NaN\n",
      "29         NaN            Sylhet    NaN    11.0       NaN     NaN\n",
      "30         NaN           Rangpur    NaN    18.0       NaN     NaN\n",
      "31         NaN         Gaibandha    NaN    16.0       NaN     NaN\n",
      "32         NaN        Nilphamari    NaN    10.0       NaN     NaN\n",
      "33         NaN       Lalmonirhat    NaN     2.0       NaN     NaN\n",
      "34     Rangpur               NaN    NaN     NaN        72   1.66%\n",
      "35         NaN          Kurigram    NaN     3.0       NaN     NaN\n",
      "36         NaN          Dinajpur    NaN    13.0       NaN     NaN\n",
      "37         NaN         Panchagar    NaN     3.0       NaN     NaN\n",
      "38         NaN        Thakurgaon    NaN     7.0       NaN     NaN\n",
      "39         NaN            Khulna    NaN     7.0       NaN     NaN\n",
      "40         NaN           Jessore    NaN     7.0       NaN     NaN\n",
      "41         NaN          Bagerhat    NaN     1.0       NaN     NaN\n",
      "42         NaN            Narail    NaN     7.0       NaN     NaN\n",
      "43      Khulna               NaN    NaN     NaN        38   0.88%\n",
      "44         NaN            Magura    NaN     2.0       NaN     NaN\n",
      "45         NaN          Meherpur    NaN     2.0       NaN     NaN\n",
      "46         NaN           Kushtia    NaN     4.0       NaN     NaN\n",
      "47         NaN         Chuadanga    NaN     8.0       NaN     NaN\n",
      "48         NaN        Mymensingh    NaN    87.0       NaN     NaN\n",
      "49         NaN          Jamalpur    NaN    37.0       NaN     NaN\n",
      "50  Mymensingh               NaN    NaN     NaN       168   3.88%\n",
      "51         NaN         Netrokona    NaN    25.0       NaN     NaN\n",
      "52         NaN           Sherpur    NaN    19.0       NaN     NaN\n",
      "53         NaN           Barguna    NaN    23.0       NaN     NaN\n",
      "54         NaN             Bhola    NaN     2.0       NaN     NaN\n",
      "55         NaN          Barishal    NaN    38.0       NaN     NaN\n",
      "56    Barishal               NaN    NaN     NaN        86   1.99%\n",
      "57         NaN        Potuakhali    NaN    19.0       NaN     NaN\n",
      "58         NaN          Pirojpur    NaN     7.0       NaN     NaN\n",
      "59         NaN        Jhalokathi    NaN     5.0       NaN     NaN\n",
      "60         NaN         Joypurhat    NaN     4.0       NaN     NaN\n",
      "61         NaN             Pabna    NaN     3.0       NaN     NaN\n",
      "62         NaN   Chapainawabganj    NaN     1.0       NaN     NaN\n",
      "63    Rajshahi             Bogra    NaN    11.0        33   0.76%\n",
      "64         NaN           Naogaon    NaN     2.0       NaN     NaN\n",
      "65         NaN         Sirajganj    NaN     2.0       NaN     NaN\n",
      "66         NaN          Rajshahi    NaN    10.0       NaN     NaN]\n"
     ]
    }
   ],
   "source": [
    "with pd.option_context('display.max_rows', None, 'display.max_columns', None): \n",
    "    print(df)\n",
    "#     print(dhk_area_dat)\n",
    "columns_to_be_dropped = district_info.columns[[0, 2, 4, 5]]"
   ]
  },
  {
   "cell_type": "code",
   "execution_count": 23,
   "metadata": {},
   "outputs": [],
   "source": [
    "district_info = district_info.drop(columns_to_be_dropped, axis=1).dropna(how='any')"
   ]
  },
  {
   "cell_type": "code",
   "execution_count": 24,
   "metadata": {},
   "outputs": [],
   "source": [
    "# corrupt_data.columns = ['district', 'total']\n",
    "district_info.columns =  ['district', 'total']"
   ]
  },
  {
   "cell_type": "code",
   "execution_count": 25,
   "metadata": {},
   "outputs": [],
   "source": [
    "# district_info = pd.concat([district_info, corrupt_data], ignore_index=True)"
   ]
  },
  {
   "cell_type": "code",
   "execution_count": 26,
   "metadata": {},
   "outputs": [],
   "source": [
    "district_info.total = district_info.total.astype(int)\n"
   ]
  },
  {
   "cell_type": "code",
   "execution_count": 27,
   "metadata": {},
   "outputs": [],
   "source": [
    "district_info = district_info.replace({'district': {'Dhaka City':'Dhaka'}}).replace({'district': {'Dhaka (District)':'Dhaka'}}).groupby('district', as_index=False).sum().sort_values(by=['total'], ascending=False)"
   ]
  },
  {
   "cell_type": "code",
   "execution_count": 28,
   "metadata": {},
   "outputs": [
    {
     "name": "stdout",
     "output_type": "stream",
     "text": [
      "Number of districts:  59\n",
      "Total confirmed:  4326\n",
      "           district  total\n",
      "13            Dhaka   2299\n",
      "40      Narayanganj    594\n",
      "18          Gazipur    261\n",
      "26      Kishoreganj    181\n",
      "41       Narshingdi    141\n",
      "37       Mymensingh     87\n",
      "36       Munshigonj     62\n",
      "9        Chattogram     46\n",
      "19        Gopalganj     46\n",
      "20         Hobiganj     41\n",
      "12          Cumilla     39\n",
      "4          Barishal     38\n",
      "21         Jamalpur     37\n",
      "0          B. Baria     29\n",
      "31        Madaripur     29\n",
      "29        Laksmipur     28\n",
      "42        Netrokona     25\n",
      "3           Barguna     23\n",
      "57          Tangail     22\n",
      "48       Potuakhali     19\n",
      "53          Sherpur     19\n",
      "51          Rangpur     18\n",
      "17        Gaibandha     16\n",
      "52       Shariatpur     14\n",
      "14         Dinajpur     13\n",
      "55        Sunamganj     13\n",
      "49          Rajbari     12\n",
      "33        Manikganj     12\n",
      "6             Bogra     11\n",
      "56           Sylhet     11\n",
      "43       Nilphamari     10\n",
      "50         Rajshahi     10\n",
      "7          Chandpur     10\n",
      "15         Faridpur      9\n",
      "10        Chuadanga      8\n",
      "47         Pirojpur      7\n",
      "25           Khulna      7\n",
      "39           Narail      7\n",
      "22          Jessore      7\n",
      "58       Thakurgaon      7\n",
      "11      Cox’s bazar      6\n",
      "23       Jhalokathi      5\n",
      "44         Noakhali      5\n",
      "28          Kushtia      4\n",
      "35    Moulovi Bazar      4\n",
      "24        Joypurhat      4\n",
      "2         Bandarban      4\n",
      "16             Feni      3\n",
      "46        Panchagar      3\n",
      "45            Pabna      3\n",
      "27         Kurigram      3\n",
      "38          Naogaon      2\n",
      "34         Meherpur      2\n",
      "32           Magura      2\n",
      "30      Lalmonirhat      2\n",
      "54        Sirajganj      2\n",
      "5             Bhola      2\n",
      "1          Bagerhat      1\n",
      "8   Chapainawabganj      1\n"
     ]
    }
   ],
   "source": [
    "print(\"Number of districts: \", district_info.shape[0])\n",
    "print(\"Total confirmed: \", district_info['total'].sum())\n",
    "print(district_info)"
   ]
  },
  {
   "cell_type": "code",
   "execution_count": 29,
   "metadata": {},
   "outputs": [],
   "source": [
    "for d, t in zip(district_info['district'].tolist(), district_info['total'].tolist()):\n",
    "    if d in iedcr2bcc_district.keys():\n",
    "        d = iedcr2bcc_district[d]\n",
    "    #f.write(d + ',' + en2bn_district[d] + ',' + str(t) + \"\\n\")\n",
    "    f.write(d + ',,' + str(t) + \"\\n\")"
   ]
  },
  {
   "cell_type": "code",
   "execution_count": 30,
   "metadata": {},
   "outputs": [],
   "source": [
    "f.close()"
   ]
  }
 ],
 "metadata": {
  "kernelspec": {
   "display_name": "Python 3",
   "language": "python",
   "name": "python3"
  },
  "language_info": {
   "codemirror_mode": {
    "name": "ipython",
    "version": 3
   },
   "file_extension": ".py",
   "mimetype": "text/x-python",
   "name": "python",
   "nbconvert_exporter": "python",
   "pygments_lexer": "ipython3",
   "version": "3.6.9"
  },
  "varInspector": {
   "cols": {
    "lenName": 16,
    "lenType": 16,
    "lenVar": 40
   },
   "kernels_config": {
    "python": {
     "delete_cmd_postfix": "",
     "delete_cmd_prefix": "del ",
     "library": "var_list.py",
     "varRefreshCmd": "print(var_dic_list())"
    },
    "r": {
     "delete_cmd_postfix": ") ",
     "delete_cmd_prefix": "rm(",
     "library": "var_list.r",
     "varRefreshCmd": "cat(var_dic_list()) "
    }
   },
   "position": {
    "height": "391px",
    "left": "1445px",
    "right": "20px",
    "top": "120px",
    "width": "350px"
   },
   "types_to_exclude": [
    "module",
    "function",
    "builtin_function_or_method",
    "instance",
    "_Feature"
   ],
   "window_display": true
  }
 },
 "nbformat": 4,
 "nbformat_minor": 4
}
