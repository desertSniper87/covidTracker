{
 "cells": [
  {
   "cell_type": "code",
   "execution_count": 1,
   "metadata": {},
   "outputs": [],
   "source": [
    "import tabula\n",
    "import pandas as pd"
   ]
  },
  {
   "cell_type": "code",
   "execution_count": 2,
   "metadata": {},
   "outputs": [
    {
     "data": {
      "text/plain": [
       "16"
      ]
     },
     "execution_count": 2,
     "metadata": {},
     "output_type": "execute_result"
    }
   ],
   "source": [
    "date = 19\n",
    "month = 'april'\n",
    "month_n = 4\n",
    "\n",
    "f = open(f\"./{month}/{date}/data.csv\", \"w+\")\n",
    "\n",
    "iedcr2bcc_district = {\n",
    "    \"B. Baria\": \"Brahamanbaria\",\n",
    "    \"Barishal\": \"Barisal\",\n",
    "    \"Chattogram\": \"Chittagong\",\n",
    "    \"Cox’s bazar\": \"Cox's Bazar\",\n",
    "    \"Cumilla\": \"Comilla\",\n",
    "    \"Hobiganj\": \"Habiganj\",\n",
    "    \"Jhalokathi\": \"Jhalokati\",\n",
    "    \"Laksmipur\": \"Lakshmipur\",\n",
    "    \"Moulovi Bazar\": \"Maulvibazar\",\n",
    "    \"Munshigonj\": \"Munshiganj\",\n",
    "    \"Narshingdi\": \"Narsingdi\",\n",
    "    \"Netrokona\": \"Netrakona\",\n",
    "    \"Potuakhali\": \"Patuakhali\",\n",
    "}\n",
    "\n",
    "en2bn_district = {\n",
    "    \"Bagerhat\": \"বাগেরহাট\",\n",
    "    \"Bandarban\": \"বান্দরবান\",\n",
    "    \"Barguna\": \"বরগুনা\",\n",
    "    \"Barisal\": \"বরিশাল\",\n",
    "    \"Bhola\": \"ভোলা\",\n",
    "    \"Bogra\": \"বগুড়া\",\n",
    "    \"Brahamanbaria\": \"ব্রাহ্মণবাড়িয়া\",\n",
    "    \"Chandpur\": \"চাঁদপুর\",\n",
    "    \"Chittagong\": \"চট্টগ্রাম\",\n",
    "    \"Chuadanga\": \"চুয়াডাঙ্গা\",\n",
    "    \"Comilla\": \"কুমিল্লা\",\n",
    "    \"Cox's Bazar\": \"কক্সবাজার\",\n",
    "    \"Dhaka\": \"ঢাকা\",\n",
    "    \"Dinajpur\": \"দিনাজপুর\",\n",
    "    \"Faridpur\": \"ফরিদপুর\",\n",
    "    \"Feni\": \"ফেনী\",\n",
    "    \"Gaibandha\": \"গাইবান্ধা\",\n",
    "    \"Gazipur\": \"গাজীপুর\",\n",
    "    \"Gopalganj\": \"গোপালগঞ্জ\",\n",
    "    \"Habiganj\": \"হবিগঞ্জ\",\n",
    "    \"Jamalpur\": \"জামালপুর\",\n",
    "    \"Jessore\": \"যশোর\",\n",
    "    \"Jhalokati\": \"ঝালকাঠি\",\n",
    "    \"Jhenaidah\": \"ঝিনাইদহ\",\n",
    "    \"Joypurhat\": \"জয়পুরহাট\",\n",
    "    \"Khagrachhari\": \"খাগড়াছড়ি\",\n",
    "    \"Khulna\": \"খুলনা\",\n",
    "    \"Kishoreganj\": \"কিশোরগঞ্জ\",\n",
    "    \"Kurigram\": \"কুড়িগ্রাম\",\n",
    "    \"Kushtia\": \"কুষ্টিয়া\",\n",
    "    \"Lakshmipur\": \"লক্ষ্মীপুর\",\n",
    "    \"Lalmonirhat\": \"লালমনিরহাট\",\n",
    "    \"Madaripur\": \"মাদারীপুর\",\n",
    "    \"Magura\": \"মাগুরা\",\n",
    "    \"Manikganj\": \"মানিকগঞ্জ\",\n",
    "    \"Maulvibazar\": \"মেহেরপুর\",\n",
    "    \"Meherpur\": \"মৌলভীবাজার\",\n",
    "    \"Munshiganj\": \"মুন্সিগঞ্জ\",\n",
    "    \"Mymensingh\": \"ময়মনসিংহ\",\n",
    "    \"Naogaon\": \"নওগাঁ\",\n",
    "    \"Narail\": \"নড়াইল\",\n",
    "    \"Narayanganj\": \"নারায়ণগঞ্জ\",\n",
    "    \"Narsingdi\": \"নরসিংদী\",\n",
    "    \"Natore\": \"নাটোর\",\n",
    "    \"Nawabganj\": \"চাঁপাইনবাবগঞ্জ\",\n",
    "    \"Netrakona\": \"নেত্রকোণা\",\n",
    "    \"Nilphamari\": \"নীলফামারী\",\n",
    "    \"Noakhali\": \"নোয়াখালী\",\n",
    "    \"Pabna\": \"পাবনা\",\n",
    "    \"Panchagarh\": \"পঞ্চগড়\",\n",
    "    \"Patuakhali\": \"পটুয়াখালী\",\n",
    "    \"Pirojpur\": \"পিরোজপুর\",\n",
    "    \"Rajbari\": \"রাজবাড়ী\",\n",
    "    \"Rajshahi\": \"রাজশাহী\",\n",
    "    \"Rangamati\": \"রাঙ্গামাটি\",\n",
    "    \"Rangpur\": \"রংপুর\",\n",
    "    \"Satkhira\": \"সাতক্ষীরা\",\n",
    "    \"Shariatpur\": \"শরীয়তপুর\",\n",
    "    \"Sherpur\": \"শেরপুর\",\n",
    "    \"Sirajganj\": \"সিরাজগঞ্জ\",\n",
    "    \"Sunamganj\": \"সুনামগঞ্জ\",\n",
    "    \"Sylhet\": \"সিলেট\",\n",
    "    \"Tangail\": \"টাঙ্গাইল\",\n",
    "    \"Thakurgaon\": \"ঠাকুরগাঁও\"\n",
    "}\n",
    "\n",
    "\n",
    "\n",
    "f.write(\"date\" + ',,' + f'{date}.{month_n}.2020' + '\\n')"
   ]
  },
  {
   "cell_type": "code",
   "execution_count": 3,
   "metadata": {},
   "outputs": [
    {
     "name": "stderr",
     "output_type": "stream",
     "text": [
      "Got stderr: Apr 19, 2020 7:31:39 PM org.apache.pdfbox.pdmodel.font.PDCIDFontType2 <init>\n",
      "INFO: OpenType Layout tables used in font ABCDEE+Calibri are not implemented in PDFBox and will be ignored\n",
      "\n"
     ]
    }
   ],
   "source": [
    "df = tabula.read_pdf(f\"./{month}/{date}/data.pdf\", pages='all', pandas_options={\"header\": None})\n"
   ]
  },
  {
   "cell_type": "code",
   "execution_count": 4,
   "metadata": {},
   "outputs": [
    {
     "data": {
      "text/plain": [
       "[             0                 1      2         3\n",
       " 0     Division     District/City  Total  Division\n",
       " 1        Dhaka        Dhaka City    974       974\n",
       " 2          NaN  Dhaka (District)     40       895\n",
       " 3          NaN           Gazipur    173       NaN\n",
       " 4          NaN       Kishoreganj     77       NaN\n",
       " 5          NaN         Madaripur     26       NaN\n",
       " 6          NaN         Manikganj      6       NaN\n",
       " 7          NaN       Narayanganj    386       NaN\n",
       " 8          NaN        Munshigonj     33       NaN\n",
       " 9          NaN        Narshingdi    105       NaN\n",
       " 10         NaN           Rajbari      7       NaN\n",
       " 11         NaN          Faridpur      4       NaN\n",
       " 12         NaN           Tangail     10       NaN\n",
       " 13         NaN        Shariatpur      7       NaN\n",
       " 14         NaN         Gopalganj     21       NaN\n",
       " 15  Chattogram        Chattogram     39       105\n",
       " 16         NaN       Cox’s bazar      1       NaN\n",
       " 17         NaN           Cumilla     19       NaN\n",
       " 18         NaN          B. Baria     11       NaN\n",
       " 19         NaN         Laksmipur     21       NaN\n",
       " 20         NaN         Bandarban      1       NaN\n",
       " 21         NaN          Noakhali      3       NaN\n",
       " 22         NaN              Feni      2       NaN\n",
       " 23         NaN          Chandpur      8       NaN\n",
       " 24      Sylhet     Moulovi Bazar      2         7\n",
       " 25         NaN         Sunamganj      1       NaN\n",
       " 26         NaN          Hobiganj      1       NaN\n",
       " 27         NaN            Sylhet      3       NaN\n",
       " 28     Rangpur           Rangpur      3        47\n",
       " 29         NaN         Gaibandha     12       NaN\n",
       " 30         NaN        Nilphamari      9       NaN\n",
       " 31         NaN       Lalmonirhat      2       NaN\n",
       " 32         NaN          Kurigram      2       NaN\n",
       " 33         NaN          Dinajpur     10       NaN\n",
       " 34         NaN         Panchagar      1       NaN\n",
       " 35         NaN           Rangpur      2       NaN\n",
       " 36         NaN        Thakurgaon      6       NaN\n",
       " 37      Khulna            Khulna      1         6\n",
       " 38         NaN           Jessore      1       NaN\n",
       " 39         NaN          Bagerhat      1       NaN\n",
       " 40         NaN            Narail      2       NaN\n",
       " 41         NaN         Chuadanga      1       NaN\n",
       " 42  Mymensingh        Mymensingh     21        66\n",
       " 43         NaN          Jamalpur     20       NaN\n",
       " 44         NaN         Netrokona     14       NaN\n",
       " 45         NaN           Sherpur     11       NaN\n",
       " 46    Barishal           Barguna     10        41\n",
       " 47         NaN          Barishal     21       NaN\n",
       " 48         NaN        Potuakhali      2       NaN\n",
       " 49         NaN          Pirojpur      4       NaN\n",
       " 50         NaN        Jhalokathi      4       NaN\n",
       " 51    Rajshahi         Joypurhat      2         9\n",
       " 52       Pabna                 2    NaN       NaN\n",
       " 53       Bogra                 1    NaN       NaN\n",
       " 54    Rajshahi                 4    NaN       NaN]"
      ]
     },
     "execution_count": 4,
     "metadata": {},
     "output_type": "execute_result"
    }
   ],
   "source": [
    "df"
   ]
  },
  {
   "cell_type": "code",
   "execution_count": 5,
   "metadata": {},
   "outputs": [],
   "source": [
    "# district_info = pd.concat([df[0], df[1]], ignore_index=True).iloc[1:]\n",
    "district_info = df[0].iloc[1:]"
   ]
  },
  {
   "cell_type": "code",
   "execution_count": 6,
   "metadata": {},
   "outputs": [],
   "source": [
    "corrupt_data = district_info[district_info[2].isnull()]"
   ]
  },
  {
   "cell_type": "code",
   "execution_count": 7,
   "metadata": {},
   "outputs": [],
   "source": [
    "corrupt_data = corrupt_data.drop(corrupt_data.columns[[2,3]], axis=1)"
   ]
  },
  {
   "cell_type": "code",
   "execution_count": 8,
   "metadata": {
    "scrolled": true
   },
   "outputs": [],
   "source": [
    "columns_to_be_dropped = district_info.columns[[0, 3]]"
   ]
  },
  {
   "cell_type": "code",
   "execution_count": 9,
   "metadata": {},
   "outputs": [],
   "source": [
    "district_info = district_info.drop(columns_to_be_dropped, axis=1).dropna(how='any')"
   ]
  },
  {
   "cell_type": "code",
   "execution_count": 10,
   "metadata": {},
   "outputs": [],
   "source": [
    "district_info.columns = corrupt_data.columns = ['district', 'total']"
   ]
  },
  {
   "cell_type": "code",
   "execution_count": 11,
   "metadata": {},
   "outputs": [],
   "source": [
    "district_info = pd.concat([district_info, corrupt_data], ignore_index=True)"
   ]
  },
  {
   "cell_type": "code",
   "execution_count": 12,
   "metadata": {},
   "outputs": [],
   "source": [
    "district_info.total = district_info.total.astype(int)"
   ]
  },
  {
   "cell_type": "code",
   "execution_count": 13,
   "metadata": {},
   "outputs": [],
   "source": [
    "district_info = district_info.replace({'district': {'Dhaka City':'Dhaka'}}).replace({'district': {'Dhaka (District)':'Dhaka'}}).groupby('district', as_index=False).sum().sort_values(by=['total'], ascending=False)"
   ]
  },
  {
   "cell_type": "code",
   "execution_count": 17,
   "metadata": {},
   "outputs": [
    {
     "name": "stdout",
     "output_type": "stream",
     "text": [
      "Number of districts:  52\n",
      "Total confirmed:  2150\n",
      "         district  total\n",
      "11          Dhaka   1014\n",
      "34    Narayanganj    386\n",
      "16        Gazipur    173\n",
      "35     Narshingdi    105\n",
      "24    Kishoreganj     77\n",
      "7      Chattogram     39\n",
      "31     Munshigonj     33\n",
      "28      Madaripur     26\n",
      "26      Laksmipur     21\n",
      "17      Gopalganj     21\n",
      "4        Barishal     21\n",
      "32     Mymensingh     21\n",
      "19       Jamalpur     20\n",
      "10        Cumilla     19\n",
      "36      Netrokona     14\n",
      "15      Gaibandha     12\n",
      "47        Sherpur     11\n",
      "0        B. Baria     11\n",
      "12       Dinajpur     10\n",
      "50        Tangail     10\n",
      "3         Barguna     10\n",
      "37     Nilphamari      9\n",
      "6        Chandpur      8\n",
      "43        Rajbari      7\n",
      "46     Shariatpur      7\n",
      "29      Manikganj      6\n",
      "51     Thakurgaon      6\n",
      "45        Rangpur      5\n",
      "21     Jhalokathi      4\n",
      "41       Pirojpur      4\n",
      "44       Rajshahi      4\n",
      "13       Faridpur      4\n",
      "49         Sylhet      3\n",
      "38       Noakhali      3\n",
      "27    Lalmonirhat      2\n",
      "42     Potuakhali      2\n",
      "39          Pabna      2\n",
      "14           Feni      2\n",
      "22      Joypurhat      2\n",
      "33         Narail      2\n",
      "30  Moulovi Bazar      2\n",
      "25       Kurigram      2\n",
      "48      Sunamganj      1\n",
      "2       Bandarban      1\n",
      "18       Hobiganj      1\n",
      "40      Panchagar      1\n",
      "8       Chuadanga      1\n",
      "9     Cox’s bazar      1\n",
      "1        Bagerhat      1\n",
      "23         Khulna      1\n",
      "20        Jessore      1\n",
      "5           Bogra      1\n"
     ]
    }
   ],
   "source": [
    "print(\"Number of districts: \", district_info.shape[0])\n",
    "print(\"Total confirmed: \", district_info['total'].sum())\n",
    "print(district_info)"
   ]
  },
  {
   "cell_type": "code",
   "execution_count": 15,
   "metadata": {},
   "outputs": [],
   "source": [
    "for d, t in zip(district_info['district'].tolist(), district_info['total'].tolist()):\n",
    "    if d in iedcr2bcc_district.keys():\n",
    "        d = iedcr2bcc_district[d]\n",
    "#     f.write(d + ',' + en2bn_district[d] + ',' + str(t) + \"\\n\")\n",
    "    f.write(d + ',,' + str(t) + \"\\n\")"
   ]
  },
  {
   "cell_type": "code",
   "execution_count": 16,
   "metadata": {},
   "outputs": [],
   "source": [
    "f.close()"
   ]
  }
 ],
 "metadata": {
  "kernelspec": {
   "display_name": "Python 3",
   "language": "python",
   "name": "python3"
  },
  "language_info": {
   "codemirror_mode": {
    "name": "ipython",
    "version": 3
   },
   "file_extension": ".py",
   "mimetype": "text/x-python",
   "name": "python",
   "nbconvert_exporter": "python",
   "pygments_lexer": "ipython3",
   "version": "3.6.9"
  }
 },
 "nbformat": 4,
 "nbformat_minor": 4
}
