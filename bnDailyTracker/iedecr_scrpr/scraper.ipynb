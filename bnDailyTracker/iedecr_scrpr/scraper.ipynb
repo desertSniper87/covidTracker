{
 "cells": [
  {
   "cell_type": "code",
   "execution_count": 1,
   "metadata": {},
   "outputs": [],
   "source": [
    "import tabula\n",
    "import pandas as pd"
   ]
  },
  {
   "cell_type": "code",
   "execution_count": 2,
   "metadata": {},
   "outputs": [
    {
     "data": {
      "text/plain": [
       "16"
      ]
     },
     "execution_count": 2,
     "metadata": {},
     "output_type": "execute_result"
    }
   ],
   "source": [
    "date = 23\n",
    "month = 'april'\n",
    "month_n = 4\n",
    "\n",
    "f = open(f\"./{month}/{date}/data.csv\", \"w+\")\n",
    "\n",
    "iedcr2bcc_district = {\n",
    "    \"B. Baria\": \"Brahamanbaria\",\n",
    "    \"Barishal\": \"Barisal\",\n",
    "    # \"Bogra\": \"Bogura\",\n",
    "    \"Chattogram\": \"Chittagong\",\n",
    "    \"Cox’s bazar\": \"Cox's Bazar\",\n",
    "    \"Cumilla\": \"Comilla\",\n",
    "    \"Hobiganj\": \"Habiganj\",\n",
    "    \"Jhalokathi\": \"Jhalokati\",\n",
    "    \"Laksmipur\": \"Lakshmipur\",\n",
    "    \"Moulovi Bazar\": \"Maulvibazar\",\n",
    "    \"Munshigonj\": \"Munshiganj\",\n",
    "    \"Narshingdi\": \"Narsingdi\",\n",
    "    \"Netrokona\": \"Netrakona\",\n",
    "    \"Panchagar\": \"Panchagarh\",\n",
    "    \"Potuakhali\": \"Patuakhali\",\n",
    "    \"Chapainawabganj\": \"Nawabganj\"\n",
    "}\n",
    "\n",
    "en2bn_district = {\n",
    "    \"Bagerhat\": \"বাগেরহাট\",\n",
    "    \"Bandarban\": \"বান্দরবান\",\n",
    "    \"Barguna\": \"বরগুনা\",\n",
    "    \"Barisal\": \"বরিশাল\",\n",
    "    \"Bhola\": \"ভোলা\",\n",
    "    \"Bogra\": \"বগুড়া\",\n",
    "    \"Brahamanbaria\": \"ব্রাহ্মণবাড়িয়া\",\n",
    "    \"Chandpur\": \"চাঁদপুর\",\n",
    "    \"Chittagong\": \"চট্টগ্রাম\",\n",
    "    \"Chuadanga\": \"চুয়াডাঙ্গা\",\n",
    "    \"Comilla\": \"কুমিল্লা\",\n",
    "    \"Cox's Bazar\": \"কক্সবাজার\",\n",
    "    \"Dhaka\": \"ঢাকা\",\n",
    "    \"Dinajpur\": \"দিনাজপুর\",\n",
    "    \"Faridpur\": \"ফরিদপুর\",\n",
    "    \"Feni\": \"ফেনী\",\n",
    "    \"Gaibandha\": \"গাইবান্ধা\",\n",
    "    \"Gazipur\": \"গাজীপুর\",\n",
    "    \"Gopalganj\": \"গোপালগঞ্জ\",\n",
    "    \"Habiganj\": \"হবিগঞ্জ\",\n",
    "    \"Jamalpur\": \"জামালপুর\",\n",
    "    \"Jessore\": \"যশোর\",\n",
    "    \"Jhalokati\": \"ঝালকাঠি\",\n",
    "    \"Jhenaidah\": \"ঝিনাইদহ\",\n",
    "    \"Joypurhat\": \"জয়পুরহাট\",\n",
    "    \"Khagrachhari\": \"খাগড়াছড়ি\",\n",
    "    \"Khulna\": \"খুলনা\",\n",
    "    \"Kishoreganj\": \"কিশোরগঞ্জ\",\n",
    "    \"Kurigram\": \"কুড়িগ্রাম\",\n",
    "    \"Kushtia\": \"কুষ্টিয়া\",\n",
    "    \"Lakshmipur\": \"লক্ষ্মীপুর\",\n",
    "    \"Lalmonirhat\": \"লালমনিরহাট\",\n",
    "    \"Madaripur\": \"মাদারীপুর\",\n",
    "    \"Magura\": \"মাগুরা\",\n",
    "    \"Manikganj\": \"মানিকগঞ্জ\",\n",
    "    \"Maulvibazar\": \"মেহেরপুর\",\n",
    "    \"Meherpur\": \"মৌলভীবাজার\",\n",
    "    \"Munshiganj\": \"মুন্সিগঞ্জ\",\n",
    "    \"Mymensingh\": \"ময়মনসিংহ\",\n",
    "    \"Naogaon\": \"নওগাঁ\",\n",
    "    \"Narail\": \"নড়াইল\",\n",
    "    \"Narayanganj\": \"নারায়ণগঞ্জ\",\n",
    "    \"Narsingdi\": \"নরসিংদী\",\n",
    "    \"Natore\": \"নাটোর\",\n",
    "    \"Nawabganj\": \"চাঁপাইনবাবগঞ্জ\",\n",
    "    \"Netrakona\": \"নেত্রকোণা\",\n",
    "    \"Nilphamari\": \"নীলফামারী\",\n",
    "    \"Noakhali\": \"নোয়াখালী\",\n",
    "    \"Pabna\": \"পাবনা\",\n",
    "    \"Panchagarh\": \"পঞ্চগড়\",\n",
    "    \"Patuakhali\": \"পটুয়াখালী\",\n",
    "    \"Pirojpur\": \"পিরোজপুর\",\n",
    "    \"Rajbari\": \"রাজবাড়ী\",\n",
    "    \"Rajshahi\": \"রাজশাহী\",\n",
    "    \"Rangamati\": \"রাঙ্গামাটি\",\n",
    "    \"Rangpur\": \"রংপুর\",\n",
    "    \"Satkhira\": \"সাতক্ষীরা\",\n",
    "    \"Shariatpur\": \"শরীয়তপুর\",\n",
    "    \"Sherpur\": \"শেরপুর\",\n",
    "    \"Sirajganj\": \"সিরাজগঞ্জ\",\n",
    "    \"Sunamganj\": \"সুনামগঞ্জ\",\n",
    "    \"Sylhet\": \"সিলেট\",\n",
    "    \"Tangail\": \"টাঙ্গাইল\",\n",
    "    \"Thakurgaon\": \"ঠাকুরগাঁও\"\n",
    "}\n",
    "\n",
    "\n",
    "\n",
    "f.write(\"date\" + ',,' + f'{date}.{month_n}.2020' + '\\n')"
   ]
  },
  {
   "cell_type": "code",
   "execution_count": 3,
   "metadata": {},
   "outputs": [
    {
     "name": "stderr",
     "output_type": "stream",
     "text": [
      "Got stderr: Apr 23, 2020 4:57:18 PM org.apache.pdfbox.pdmodel.font.PDCIDFontType2 <init>\n",
      "INFO: OpenType Layout tables used in font ABCDEE+Calibri are not implemented in PDFBox and will be ignored\n",
      "Apr 23, 2020 4:57:19 PM org.apache.pdfbox.pdmodel.font.PDCIDFontType2 <init>\n",
      "INFO: OpenType Layout tables used in font ABCDEE+Calibri are not implemented in PDFBox and will be ignored\n",
      "Apr 23, 2020 4:57:19 PM org.apache.pdfbox.pdmodel.font.PDCIDFontType2 <init>\n",
      "INFO: OpenType Layout tables used in font ABCDEE+Calibri are not implemented in PDFBox and will be ignored\n",
      "\n"
     ]
    }
   ],
   "source": [
    "df = tabula.read_pdf(f\"./{month}/{date}/data.pdf\", pages='all', pandas_options={\"header\": None})\n"
   ]
  },
  {
   "cell_type": "code",
   "execution_count": 4,
   "metadata": {},
   "outputs": [
    {
     "name": "stdout",
     "output_type": "stream",
     "text": [
      "[             0                 1      2       3         4       5\n",
      "0     Division     District/City  Total     NaN  Division       %\n",
      "1          NaN        Dhaka City    NaN  1663.0      1663  47.53%\n",
      "2          NaN  Dhaka (District)    NaN    53.0       NaN     NaN\n",
      "3          NaN           Gazipur    NaN   269.0       NaN     NaN\n",
      "4          NaN       Kishoreganj    NaN   146.0       NaN     NaN\n",
      "5          NaN         Madaripur    NaN    28.0       NaN     NaN\n",
      "6          NaN         Manikganj    NaN     9.0       NaN     NaN\n",
      "7          NaN       Narayanganj    NaN   532.0       NaN     NaN\n",
      "8        Dhaka               NaN    NaN     NaN       NaN     NaN\n",
      "9          NaN        Munshigonj    NaN    63.0      1322  37.78%\n",
      "10         NaN        Narshingdi    NaN   137.0       NaN     NaN\n",
      "11         NaN           Rajbari    NaN    11.0       NaN     NaN\n",
      "12         NaN          Faridpur    NaN     7.0       NaN     NaN\n",
      "13         NaN           Tangail    NaN    16.0       NaN     NaN\n",
      "14         NaN        Shariatpur    NaN    11.0       NaN     NaN\n",
      "15         NaN         Gopalganj    NaN    40.0       NaN     NaN\n",
      "16         NaN        Chattogram    NaN    45.0       NaN     NaN\n",
      "17         NaN       Cox’s bazar    NaN     5.0       NaN     NaN\n",
      "18         NaN           Cumilla    NaN    27.0       NaN     NaN\n",
      "19         NaN          B. Baria    NaN    25.0       NaN     NaN\n",
      "20  Chattogram         Laksmipur    NaN    26.0       149   4.26%\n",
      "21         NaN         Bandarban    NaN     4.0       NaN     NaN\n",
      "22         NaN          Noakhali    NaN     4.0       NaN     NaN\n",
      "23         NaN              Feni    NaN     3.0       NaN     NaN\n",
      "24         NaN          Chandpur    NaN    10.0       NaN     NaN\n",
      "25         NaN     Moulovi Bazar    NaN     4.0       NaN     NaN\n",
      "26         NaN         Sunamganj    NaN     5.0       NaN     NaN\n",
      "27      Sylhet               NaN    NaN     NaN        33   0.98%\n",
      "28         NaN          Hobiganj    NaN    18.0       NaN     NaN\n",
      "29         NaN            Sylhet    NaN     6.0       NaN     NaN\n",
      "30         NaN           Rangpur    NaN    10.0       NaN     NaN\n",
      "31         NaN         Gaibandha    NaN    14.0       NaN     NaN\n",
      "32         NaN        Nilphamari    NaN    10.0       NaN     NaN\n",
      "33         NaN       Lalmonirhat    NaN     2.0       NaN     NaN\n",
      "34     Rangpur               NaN    NaN     NaN        63   1.86%\n",
      "35         NaN          Kurigram    NaN     4.0       NaN     NaN\n",
      "36         NaN          Dinajpur    NaN    13.0       NaN     NaN\n",
      "37         NaN         Panchagar    NaN     2.0       NaN     NaN\n",
      "38         NaN        Thakurgaon    NaN     8.0       NaN     NaN\n",
      "39         NaN            Khulna    NaN     6.0       NaN     NaN\n",
      "40         NaN           Jessore    NaN     5.0       NaN     NaN\n",
      "41         NaN          Bagerhat    NaN     1.0       NaN     NaN\n",
      "42         NaN            Narail    NaN     7.0       NaN     NaN\n",
      "43      Khulna               NaN    NaN     NaN        25   0.74%\n",
      "44         NaN            Magura    NaN     1.0       NaN     NaN\n",
      "45         NaN          Meherpur    NaN     1.0       NaN     NaN\n",
      "46         NaN           Kushtia    NaN     2.0       NaN     NaN\n",
      "47         NaN         Chuadanga    NaN     2.0       NaN     NaN\n",
      "48         NaN        Mymensingh    NaN    68.0       NaN     NaN\n",
      "49         NaN          Jamalpur    NaN    30.0       NaN     NaN\n",
      "50  Mymensingh               NaN    NaN     NaN       139   4.11%\n",
      "51         NaN         Netrokona    NaN    22.0       NaN     NaN\n",
      "52         NaN           Sherpur    NaN    19.0       NaN     NaN\n",
      "53         NaN           Barguna    NaN    20.0       NaN     NaN\n",
      "54         NaN          Barishal    NaN    34.0       NaN     NaN\n",
      "55    Barishal        Potuakhali    NaN    10.0        74   2.19%\n",
      "56         NaN          Pirojpur    NaN     5.0       NaN     NaN\n",
      "57         NaN        Jhalokathi    NaN     5.0       NaN     NaN\n",
      "58         NaN         Joypurhat    NaN     4.0       NaN     NaN\n",
      "59         NaN             Pabna    NaN     3.0       NaN     NaN\n",
      "60         NaN   Chapainawabganj    NaN     1.0       NaN     NaN\n",
      "61         NaN             Bogra    NaN    10.0       NaN     NaN\n",
      "62    Rajshahi               NaN    NaN     NaN        31   0.92%\n",
      "63         NaN           Naogaon    NaN     1.0       NaN     NaN\n",
      "64         NaN            Natore    NaN     1.0       NaN     NaN\n",
      "65         NaN         Sirajganj    NaN     2.0       NaN     NaN\n",
      "66         NaN          Rajshahi    NaN     9.0       NaN     NaN]\n"
     ]
    }
   ],
   "source": [
    "with pd.option_context('display.max_rows', None, 'display.max_columns', None): \n",
    "    print(df)\n"
   ]
  },
  {
   "cell_type": "code",
   "execution_count": 5,
   "metadata": {},
   "outputs": [],
   "source": [
    "# district_info = pd.concat([df[0], df[1]], ignore_index=True).iloc[1:]\n",
    "district_info = df[0].iloc[1:]"
   ]
  },
  {
   "cell_type": "code",
   "execution_count": 6,
   "metadata": {},
   "outputs": [],
   "source": [
    "#corrupt_data = district_info[district_info[2].isnull()]"
   ]
  },
  {
   "cell_type": "code",
   "execution_count": 7,
   "metadata": {},
   "outputs": [],
   "source": [
    "# corrupt_data = corrupt_data.drop(corrupt_data.columns[[2,3]], axis=1).dropna(how='any')"
   ]
  },
  {
   "cell_type": "code",
   "execution_count": 8,
   "metadata": {
    "scrolled": true
   },
   "outputs": [],
   "source": [
    "columns_to_be_dropped = district_info.columns[[0, 2, 4, 5]]"
   ]
  },
  {
   "cell_type": "code",
   "execution_count": 9,
   "metadata": {},
   "outputs": [],
   "source": [
    "district_info = district_info.drop(columns_to_be_dropped, axis=1).dropna(how='any')"
   ]
  },
  {
   "cell_type": "code",
   "execution_count": 10,
   "metadata": {},
   "outputs": [],
   "source": [
    "# corrupt_data.columns = ['district', 'total']\n",
    "district_info.columns =  ['district', 'total']"
   ]
  },
  {
   "cell_type": "code",
   "execution_count": 11,
   "metadata": {},
   "outputs": [],
   "source": [
    "# district_info = pd.concat([district_info, corrupt_data], ignore_index=True)"
   ]
  },
  {
   "cell_type": "code",
   "execution_count": 12,
   "metadata": {},
   "outputs": [],
   "source": [
    "district_info.total = district_info.total.astype(int)"
   ]
  },
  {
   "cell_type": "code",
   "execution_count": 13,
   "metadata": {},
   "outputs": [],
   "source": [
    "district_info = district_info.replace({'district': {'Dhaka City':'Dhaka'}}).replace({'district': {'Dhaka (District)':'Dhaka'}}).groupby('district', as_index=False).sum().sort_values(by=['total'], ascending=False)"
   ]
  },
  {
   "cell_type": "code",
   "execution_count": 14,
   "metadata": {},
   "outputs": [
    {
     "name": "stdout",
     "output_type": "stream",
     "text": [
      "Number of districts:  59\n",
      "Total confirmed:  3499\n",
      "           district  total\n",
      "12            Dhaka   1716\n",
      "39      Narayanganj    532\n",
      "17          Gazipur    269\n",
      "25      Kishoreganj    146\n",
      "40       Narshingdi    137\n",
      "36       Mymensingh     68\n",
      "35       Munshigonj     63\n",
      "8        Chattogram     45\n",
      "18        Gopalganj     40\n",
      "4          Barishal     34\n",
      "20         Jamalpur     30\n",
      "30        Madaripur     28\n",
      "11          Cumilla     27\n",
      "28        Laksmipur     26\n",
      "0          B. Baria     25\n",
      "42        Netrokona     22\n",
      "3           Barguna     20\n",
      "53          Sherpur     19\n",
      "19         Hobiganj     18\n",
      "57          Tangail     16\n",
      "16        Gaibandha     14\n",
      "13         Dinajpur     13\n",
      "52       Shariatpur     11\n",
      "49          Rajbari     11\n",
      "51          Rangpur     10\n",
      "48       Potuakhali     10\n",
      "43       Nilphamari     10\n",
      "6          Chandpur     10\n",
      "5             Bogra     10\n",
      "32        Manikganj      9\n",
      "50         Rajshahi      9\n",
      "58       Thakurgaon      8\n",
      "38           Narail      7\n",
      "14         Faridpur      7\n",
      "56           Sylhet      6\n",
      "24           Khulna      6\n",
      "47         Pirojpur      5\n",
      "55        Sunamganj      5\n",
      "22       Jhalokathi      5\n",
      "21          Jessore      5\n",
      "10      Cox’s bazar      5\n",
      "34    Moulovi Bazar      4\n",
      "2         Bandarban      4\n",
      "26         Kurigram      4\n",
      "23        Joypurhat      4\n",
      "44         Noakhali      4\n",
      "45            Pabna      3\n",
      "15             Feni      3\n",
      "9         Chuadanga      2\n",
      "54        Sirajganj      2\n",
      "29      Lalmonirhat      2\n",
      "46        Panchagar      2\n",
      "27          Kushtia      2\n",
      "33         Meherpur      1\n",
      "7   Chapainawabganj      1\n",
      "41           Natore      1\n",
      "37          Naogaon      1\n",
      "1          Bagerhat      1\n",
      "31           Magura      1\n"
     ]
    }
   ],
   "source": [
    "print(\"Number of districts: \", district_info.shape[0])\n",
    "print(\"Total confirmed: \", district_info['total'].sum())\n",
    "print(district_info)"
   ]
  },
  {
   "cell_type": "code",
   "execution_count": 15,
   "metadata": {},
   "outputs": [],
   "source": [
    "for d, t in zip(district_info['district'].tolist(), district_info['total'].tolist()):\n",
    "    if d in iedcr2bcc_district.keys():\n",
    "        d = iedcr2bcc_district[d]\n",
    "    #f.write(d + ',' + en2bn_district[d] + ',' + str(t) + \"\\n\")\n",
    "    f.write(d + ',,' + str(t) + \"\\n\")"
   ]
  },
  {
   "cell_type": "code",
   "execution_count": 16,
   "metadata": {},
   "outputs": [],
   "source": [
    "f.close()"
   ]
  }
 ],
 "metadata": {
  "kernelspec": {
   "display_name": "Python 3",
   "language": "python",
   "name": "python3"
  },
  "language_info": {
   "codemirror_mode": {
    "name": "ipython",
    "version": 3
   },
   "file_extension": ".py",
   "mimetype": "text/x-python",
   "name": "python",
   "nbconvert_exporter": "python",
   "pygments_lexer": "ipython3",
   "version": "3.6.9"
  }
 },
 "nbformat": 4,
 "nbformat_minor": 4
}
