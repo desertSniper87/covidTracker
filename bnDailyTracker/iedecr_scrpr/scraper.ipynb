{
 "cells": [
  {
   "cell_type": "code",
   "execution_count": 1,
   "metadata": {},
   "outputs": [],
   "source": [
    "import tabula"
   ]
  },
  {
   "cell_type": "code",
   "execution_count": 2,
   "metadata": {},
   "outputs": [
    {
     "ename": "SyntaxError",
     "evalue": "EOL while scanning string literal (<ipython-input-2-b563542644f7>, line 35)",
     "output_type": "error",
     "traceback": [
      "\u001b[0;36m  File \u001b[0;32m\"<ipython-input-2-b563542644f7>\"\u001b[0;36m, line \u001b[0;32m35\u001b[0m\n\u001b[0;31m    \"Cox\":'\"s\" Bazar কক্সবাজার,\u001b[0m\n\u001b[0m                               ^\u001b[0m\n\u001b[0;31mSyntaxError\u001b[0m\u001b[0;31m:\u001b[0m EOL while scanning string literal\n"
     ]
    }
   ],
   "source": [
    "date = 15\n",
    "month = 'april'\n",
    "month_n = 4\n",
    "\n",
    "f = open(f\"./{month}/{date}/data.csv\", \"w+\")\n",
    "\n",
    "iedcr2bcc_district = {\n",
    "    \"Cox’s bazar\": \"Cox's Bazar\",\n",
    "    \"Barishal\": \"Barisal\",\n",
    "    \"B. Baria\": \"Brahamanbaria\",\n",
    "    \"Chattogram\": \"Chittagong\",\n",
    "    \"Cumilla\": \"Comilla\",\n",
    "    \"Jhalokathi\": \"Jhalokati\",\n",
    "    \"Laksmipur\": \"Lakhsmipur\",\n",
    "    \"Munshigonj\": \"Munshiganj\",\n",
    "    \"Narshingdi\": \"Narsingdi\",\n",
    "    \"Netrokona\": \"Netrakona\",\n",
    "    \"Potuakhali\": \"Patuakhali\",\n",
    "    \"Moulovi Bazar\": \"Maulvibazar\",\n",
    "    \"Hobiganj\": \"Habiganj\"\n",
    "}\n",
    "\n",
    "en2bn_district = {\n",
    "    \"Bagerhat\": \"বাগেরহাট\",\n",
    "    \"Bandarban\": \"বান্দরবান\",\n",
    "    \"Barguna\": \"বরগুনা\",\n",
    "    \"Barisal\": \"বরিশাল\",\n",
    "    \"Bhola\": \"ভোলা\",\n",
    "    \"Bogra\": \"বগুড়া\",\n",
    "    \"Brahamanbaria\": \"ব্রাহ্মণবাড়িয়া\",\n",
    "    \"Chandpur\": \"চাঁদপুর\",\n",
    "    \"Chittagong\": \"চট্টগ্রাম\",\n",
    "    \"Chuadanga\": \"চুয়াডাঙ্গা\",\n",
    "    \"Comilla\": \"কুমিল্লা\",\n",
    "    \"Cox\":'\"s\" Bazar কক্সবাজার,\n",
    "    \"Dhaka\": \"ঢাকা\",\n",
    "    \"Dinajpur\": \"দিনাজপুর\",\n",
    "    \"Faridpur\": \"ফরিদপুর\",\n",
    "    \"Feni\": \"ফেনী\",\n",
    "    \"Gaibandha\": \"গাইবান্ধা\",\n",
    "    \"Gazipur\": \"গাজীপুর\",\n",
    "    \"Gopalganj\": \"গোপালগঞ্জ\",\n",
    "    \"Habiganj\": \"হবিগঞ্জ\",\n",
    "    \"Jamalpur\": \"জামালপুর\",\n",
    "    \"Jessore\": \"যশোর\",\n",
    "    \"Jhalokati\": \"ঝালকাঠি\",\n",
    "    \"Jhenaidah\": \"ঝিনাইদহ\",\n",
    "    \"Joypurhat\": \"জয়পুরহাট\",\n",
    "    \"Khagrachhari\": \"খাগড়াছড়ি\",\n",
    "    \"Khulna\": \"খুলনা\",\n",
    "    \"Kishoreganj\": \"কিশোরগঞ্জ\",\n",
    "    \"Kurigram\": \"কুড়িগ্রাম\",\n",
    "    \"Kushtia\": \"কুষ্টিয়া\",\n",
    "    \"Lakshmipur\": \"লক্ষ্মীপুর\",\n",
    "    \"Lalmonirhat\": \"লালমনিরহাট\",\n",
    "    \"Madaripur\": \"মাদারীপুর\",\n",
    "    \"Magura\": \"মাগুরা\",\n",
    "    \"Manikganj\": \"মানিকগঞ্জ\",\n",
    "    \"Maulvibazar\": \"মেহেরপুর\",\n",
    "    \"Meherpur\": \"মৌলভীবাজার\",\n",
    "    \"Munshiganj\": \"মুন্সিগঞ্জ\",\n",
    "    \"Mymensingh\": \"ময়মনসিংহ\",\n",
    "    \"Naogaon\": \"নওগাঁ\",\n",
    "    \"Narail\": \"নড়াইল\",\n",
    "    \"Narayanganj\": \"নারায়ণগঞ্জ\",\n",
    "    \"Narsingdi\": \"নরসিংদী\",\n",
    "    \"Natore\": \"নাটোর\",\n",
    "    \"Nawabganj\": \"চাঁপাইনবাবগঞ্জ\",\n",
    "    \"Netrakona\": \"নেত্রকোণা\",\n",
    "    \"Nilphamari\": \"নীলফামারী\",\n",
    "    \"Noakhali\": \"নোয়াখালী\",\n",
    "    \"Pabna\": \"পাবনা\",\n",
    "    \"Panchagarh\": \"পঞ্চগড়\",\n",
    "    \"Patuakhali\": \"পটুয়াখালী\",\n",
    "    \"Pirojpur\": \"পিরোজপুর\",\n",
    "    \"Rajbari\": \"রাজবাড়ী\",\n",
    "    \"Rajshahi\": \"রাজশাহী\",\n",
    "    \"Rangamati\": \"রাঙ্গামাটি\",\n",
    "    \"Rangpur\": \"রংপুর\",\n",
    "    \"Satkhira\": \"সাতক্ষীরা\",\n",
    "    \"Shariatpur\": \"শরীয়তপুর\",\n",
    "    \"Sherpur\": \"শেরপুর\",\n",
    "    \"Sirajganj\": \"সিরাজগঞ্জ\",\n",
    "    \"Sunamganj\": \"সুনামগঞ্জ\",\n",
    "    \"Sylhet\": \"সিলেট\",\n",
    "    \"Tangail\": \"টাঙ্গাইল\",\n",
    "    \"Thakurgaon\": \"ঠাকুরগাঁও\"\n",
    "}\n",
    "\n",
    "\n",
    "\n",
    "f.write(\"date\" + ',,' + f'{date}.{month_n}.2020' + '\\n')"
   ]
  },
  {
   "cell_type": "code",
   "execution_count": null,
   "metadata": {},
   "outputs": [],
   "source": [
    "df = tabula.read_pdf(f\"./{month}/{date}/data.pdf\", pages='all')"
   ]
  },
  {
   "cell_type": "code",
   "execution_count": null,
   "metadata": {},
   "outputs": [],
   "source": [
    "district_info = df[0]"
   ]
  },
  {
   "cell_type": "code",
   "execution_count": null,
   "metadata": {},
   "outputs": [],
   "source": [
    "# district_info = district_info.iloc[1:]"
   ]
  },
  {
   "cell_type": "code",
   "execution_count": null,
   "metadata": {
    "scrolled": true
   },
   "outputs": [],
   "source": [
    "columns_to_be_dropped = district_info.columns[[0, 3]]"
   ]
  },
  {
   "cell_type": "code",
   "execution_count": null,
   "metadata": {},
   "outputs": [],
   "source": [
    "district_info = district_info.drop(columns_to_be_dropped, axis=1)"
   ]
  },
  {
   "cell_type": "code",
   "execution_count": null,
   "metadata": {},
   "outputs": [],
   "source": [
    "district_info.columns = ['district', 'total']"
   ]
  },
  {
   "cell_type": "code",
   "execution_count": null,
   "metadata": {},
   "outputs": [],
   "source": [
    "district_info.total = district_info.total.astype(int)"
   ]
  },
  {
   "cell_type": "code",
   "execution_count": null,
   "metadata": {},
   "outputs": [],
   "source": [
    "district_info = district_info.replace({'district': {'Dhaka City':'Dhaka'}}).replace({'district': {'Dhaka (District)':'Dhaka'}}).groupby('district', as_index=False).sum().sort_values(by=['total'], ascending=False)"
   ]
  },
  {
   "cell_type": "code",
   "execution_count": null,
   "metadata": {},
   "outputs": [],
   "source": [
    "for d, t in zip(district_info['district'].tolist(), district_info['total'].tolist()):\n",
    "    if d in iedcr2bcc_district.keys():\n",
    "        d = iedcr2bcc_district[d]\n",
    "#     f.write(d + ',' + en2bn_district[d] + ',' + str(t) + \"\\n\")\n",
    "    f.write(d + ',,' + str(t) + \"\\n\")"
   ]
  },
  {
   "cell_type": "code",
   "execution_count": null,
   "metadata": {},
   "outputs": [],
   "source": [
    "f.close()"
   ]
  }
 ],
 "metadata": {
  "kernelspec": {
   "display_name": "Python 3",
   "language": "python",
   "name": "python3"
  },
  "language_info": {
   "codemirror_mode": {
    "name": "ipython",
    "version": 3
   },
   "file_extension": ".py",
   "mimetype": "text/x-python",
   "name": "python",
   "nbconvert_exporter": "python",
   "pygments_lexer": "ipython3",
   "version": "3.6.9"
  }
 },
 "nbformat": 4,
 "nbformat_minor": 4
}
