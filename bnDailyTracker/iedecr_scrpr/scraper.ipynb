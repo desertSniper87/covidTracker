{
 "cells": [
  {
   "cell_type": "code",
   "execution_count": 1,
   "metadata": {},
   "outputs": [],
   "source": [
    "import tabula\n",
    "import pandas as pd"
   ]
  },
  {
   "cell_type": "code",
   "execution_count": 2,
   "metadata": {},
   "outputs": [
    {
     "data": {
      "text/plain": [
       "16"
      ]
     },
     "execution_count": 2,
     "metadata": {},
     "output_type": "execute_result"
    }
   ],
   "source": [
    "date = 20\n",
    "month = 'april'\n",
    "month_n = 4\n",
    "\n",
    "f = open(f\"./{month}/{date}/data.csv\", \"w+\")\n",
    "\n",
    "iedcr2bcc_district = {\n",
    "    \"B. Baria\": \"Brahamanbaria\",\n",
    "    \"Barishal\": \"Barisal\",\n",
    "    \"Chattogram\": \"Chittagong\",\n",
    "    \"Cox’s bazar\": \"Cox's Bazar\",\n",
    "    \"Cumilla\": \"Comilla\",\n",
    "    \"Hobiganj\": \"Habiganj\",\n",
    "    \"Jhalokathi\": \"Jhalokati\",\n",
    "    \"Laksmipur\": \"Lakshmipur\",\n",
    "    \"Moulovi Bazar\": \"Maulvibazar\",\n",
    "    \"Munshigonj\": \"Munshiganj\",\n",
    "    \"Narshingdi\": \"Narsingdi\",\n",
    "    \"Netrokona\": \"Netrakona\",\n",
    "    \"Panchagar\": \"Panchagarh\",\n",
    "    \"Potuakhali\": \"Patuakhali\",\n",
    "}\n",
    "\n",
    "en2bn_district = {\n",
    "    \"Bagerhat\": \"বাগেরহাট\",\n",
    "    \"Bandarban\": \"বান্দরবান\",\n",
    "    \"Barguna\": \"বরগুনা\",\n",
    "    \"Barisal\": \"বরিশাল\",\n",
    "    \"Bhola\": \"ভোলা\",\n",
    "    \"Bogra\": \"বগুড়া\",\n",
    "    \"Brahamanbaria\": \"ব্রাহ্মণবাড়িয়া\",\n",
    "    \"Chandpur\": \"চাঁদপুর\",\n",
    "    \"Chittagong\": \"চট্টগ্রাম\",\n",
    "    \"Chuadanga\": \"চুয়াডাঙ্গা\",\n",
    "    \"Comilla\": \"কুমিল্লা\",\n",
    "    \"Cox's Bazar\": \"কক্সবাজার\",\n",
    "    \"Dhaka\": \"ঢাকা\",\n",
    "    \"Dinajpur\": \"দিনাজপুর\",\n",
    "    \"Faridpur\": \"ফরিদপুর\",\n",
    "    \"Feni\": \"ফেনী\",\n",
    "    \"Gaibandha\": \"গাইবান্ধা\",\n",
    "    \"Gazipur\": \"গাজীপুর\",\n",
    "    \"Gopalganj\": \"গোপালগঞ্জ\",\n",
    "    \"Habiganj\": \"হবিগঞ্জ\",\n",
    "    \"Jamalpur\": \"জামালপুর\",\n",
    "    \"Jessore\": \"যশোর\",\n",
    "    \"Jhalokati\": \"ঝালকাঠি\",\n",
    "    \"Jhenaidah\": \"ঝিনাইদহ\",\n",
    "    \"Joypurhat\": \"জয়পুরহাট\",\n",
    "    \"Khagrachhari\": \"খাগড়াছড়ি\",\n",
    "    \"Khulna\": \"খুলনা\",\n",
    "    \"Kishoreganj\": \"কিশোরগঞ্জ\",\n",
    "    \"Kurigram\": \"কুড়িগ্রাম\",\n",
    "    \"Kushtia\": \"কুষ্টিয়া\",\n",
    "    \"Lakshmipur\": \"লক্ষ্মীপুর\",\n",
    "    \"Lalmonirhat\": \"লালমনিরহাট\",\n",
    "    \"Madaripur\": \"মাদারীপুর\",\n",
    "    \"Magura\": \"মাগুরা\",\n",
    "    \"Manikganj\": \"মানিকগঞ্জ\",\n",
    "    \"Maulvibazar\": \"মেহেরপুর\",\n",
    "    \"Meherpur\": \"মৌলভীবাজার\",\n",
    "    \"Munshiganj\": \"মুন্সিগঞ্জ\",\n",
    "    \"Mymensingh\": \"ময়মনসিংহ\",\n",
    "    \"Naogaon\": \"নওগাঁ\",\n",
    "    \"Narail\": \"নড়াইল\",\n",
    "    \"Narayanganj\": \"নারায়ণগঞ্জ\",\n",
    "    \"Narsingdi\": \"নরসিংদী\",\n",
    "    \"Natore\": \"নাটোর\",\n",
    "    \"Nawabganj\": \"চাঁপাইনবাবগঞ্জ\",\n",
    "    \"Netrakona\": \"নেত্রকোণা\",\n",
    "    \"Nilphamari\": \"নীলফামারী\",\n",
    "    \"Noakhali\": \"নোয়াখালী\",\n",
    "    \"Pabna\": \"পাবনা\",\n",
    "    \"Panchagarh\": \"পঞ্চগড়\",\n",
    "    \"Patuakhali\": \"পটুয়াখালী\",\n",
    "    \"Pirojpur\": \"পিরোজপুর\",\n",
    "    \"Rajbari\": \"রাজবাড়ী\",\n",
    "    \"Rajshahi\": \"রাজশাহী\",\n",
    "    \"Rangamati\": \"রাঙ্গামাটি\",\n",
    "    \"Rangpur\": \"রংপুর\",\n",
    "    \"Satkhira\": \"সাতক্ষীরা\",\n",
    "    \"Shariatpur\": \"শরীয়তপুর\",\n",
    "    \"Sherpur\": \"শেরপুর\",\n",
    "    \"Sirajganj\": \"সিরাজগঞ্জ\",\n",
    "    \"Sunamganj\": \"সুনামগঞ্জ\",\n",
    "    \"Sylhet\": \"সিলেট\",\n",
    "    \"Tangail\": \"টাঙ্গাইল\",\n",
    "    \"Thakurgaon\": \"ঠাকুরগাঁও\"\n",
    "}\n",
    "\n",
    "\n",
    "\n",
    "f.write(\"date\" + ',,' + f'{date}.{month_n}.2020' + '\\n')"
   ]
  },
  {
   "cell_type": "code",
   "execution_count": 3,
   "metadata": {},
   "outputs": [
    {
     "name": "stderr",
     "output_type": "stream",
     "text": [
      "Got stderr: Apr 20, 2020 8:37:52 PM org.apache.pdfbox.pdmodel.font.PDCIDFontType2 <init>\n",
      "INFO: OpenType Layout tables used in font ABCDEE+Calibri are not implemented in PDFBox and will be ignored\n",
      "\n"
     ]
    }
   ],
   "source": [
    "df = tabula.read_pdf(f\"./{month}/{date}/data.pdf\", pages='all', pandas_options={\"header\": None})\n"
   ]
  },
  {
   "cell_type": "code",
   "execution_count": 4,
   "metadata": {},
   "outputs": [
    {
     "data": {
      "text/plain": [
       "[             0                 1      2         3\n",
       " 0     Division     District/City  Total  Division\n",
       " 1        Dhaka        Dhaka City   1174      1174\n",
       " 2          NaN  Dhaka (District)     42      1106\n",
       " 3          NaN           Gazipur    269       NaN\n",
       " 4          NaN       Kishoreganj    146       NaN\n",
       " 5          NaN         Madaripur     25       NaN\n",
       " 6          NaN         Manikganj      7       NaN\n",
       " 7          NaN       Narayanganj    387       NaN\n",
       " 8          NaN        Munshigonj     33       NaN\n",
       " 9          NaN        Narshingdi    135       NaN\n",
       " 10         NaN           Rajbari      8       NaN\n",
       " 11         NaN          Faridpur      6       NaN\n",
       " 12         NaN           Tangail     10       NaN\n",
       " 13         NaN        Shariatpur      8       NaN\n",
       " 14         NaN         Gopalganj     30       NaN\n",
       " 15  Chattogram        Chattogram     43       118\n",
       " 16         NaN       Cox’s bazar      1       NaN\n",
       " 17         NaN           Cumilla     21       NaN\n",
       " 18         NaN          B. Baria     11       NaN\n",
       " 19         NaN         Laksmipur     25       NaN\n",
       " 20         NaN         Bandarban      1       NaN\n",
       " 21         NaN          Noakhali      4       NaN\n",
       " 22         NaN              Feni      2       NaN\n",
       " 23         NaN          Chandpur     10       NaN\n",
       " 24      Sylhet     Moulovi Bazar      2         8\n",
       " 25         NaN         Sunamganj      1       NaN\n",
       " 26         NaN          Hobiganj      1       NaN\n",
       " 27         NaN            Sylhet      4       NaN\n",
       " 28     Rangpur           Rangpur      6        50\n",
       " 29         NaN         Gaibandha     13       NaN\n",
       " 30         NaN        Nilphamari      9       NaN\n",
       " 31         NaN       Lalmonirhat      2       NaN\n",
       " 32         NaN          Kurigram      2       NaN\n",
       " 33         NaN          Dinajpur     11       NaN\n",
       " 34         NaN         Panchagar      1       NaN\n",
       " 35         NaN        Thakurgaon      6       NaN\n",
       " 36      Khulna            Khulna      3         9\n",
       " 37         NaN           Jessore      1       NaN\n",
       " 38         NaN          Bagerhat      2       NaN\n",
       " 39         NaN            Narail      2       NaN\n",
       " 40         NaN         Chuadanga      1       NaN\n",
       " 41  Mymensingh        Mymensingh     33        81\n",
       " 42         NaN          Jamalpur     21       NaN\n",
       " 43         NaN         Netrokona     14       NaN\n",
       " 44         NaN           Sherpur     13       NaN\n",
       " 45    Barishal           Barguna     12        47\n",
       " 46         NaN          Barishal     24       NaN\n",
       " 47         NaN        Potuakhali      2       NaN\n",
       " 48         NaN          Pirojpur      5       NaN\n",
       " 49         NaN        Jhalokathi      4       NaN\n",
       " 50    Rajshahi         Joypurhat      2        12\n",
       " 51       Pabna                 2    NaN       NaN\n",
       " 52       Bogra                 1    NaN       NaN\n",
       " 53     Naogaon                 1    NaN       NaN\n",
       " 54   Sirajganj                 1    NaN       NaN\n",
       " 55    Rajshahi                 5    NaN       NaN\n",
       " 56         NaN               NaN    NaN       NaN]"
      ]
     },
     "execution_count": 4,
     "metadata": {},
     "output_type": "execute_result"
    }
   ],
   "source": [
    "df"
   ]
  },
  {
   "cell_type": "code",
   "execution_count": 5,
   "metadata": {},
   "outputs": [],
   "source": [
    "# district_info = pd.concat([df[0], df[1]], ignore_index=True).iloc[1:]\n",
    "district_info = df[0].iloc[1:]"
   ]
  },
  {
   "cell_type": "code",
   "execution_count": 6,
   "metadata": {},
   "outputs": [],
   "source": [
    "corrupt_data = district_info[district_info[2].isnull()]"
   ]
  },
  {
   "cell_type": "code",
   "execution_count": 7,
   "metadata": {},
   "outputs": [],
   "source": [
    "corrupt_data = corrupt_data.drop(corrupt_data.columns[[2,3]], axis=1).dropna(how='any')"
   ]
  },
  {
   "cell_type": "code",
   "execution_count": 8,
   "metadata": {
    "scrolled": true
   },
   "outputs": [],
   "source": [
    "columns_to_be_dropped = district_info.columns[[0, 3]]"
   ]
  },
  {
   "cell_type": "code",
   "execution_count": 9,
   "metadata": {},
   "outputs": [],
   "source": [
    "district_info = district_info.drop(columns_to_be_dropped, axis=1).dropna(how='any')"
   ]
  },
  {
   "cell_type": "code",
   "execution_count": 10,
   "metadata": {},
   "outputs": [],
   "source": [
    "district_info.columns = corrupt_data.columns = ['district', 'total']"
   ]
  },
  {
   "cell_type": "code",
   "execution_count": 11,
   "metadata": {},
   "outputs": [],
   "source": [
    "district_info = pd.concat([district_info, corrupt_data], ignore_index=True)"
   ]
  },
  {
   "cell_type": "code",
   "execution_count": 12,
   "metadata": {},
   "outputs": [],
   "source": [
    "district_info.total = district_info.total.astype(int)"
   ]
  },
  {
   "cell_type": "code",
   "execution_count": 13,
   "metadata": {},
   "outputs": [],
   "source": [
    "district_info = district_info.replace({'district': {'Dhaka City':'Dhaka'}}).replace({'district': {'Dhaka (District)':'Dhaka'}}).groupby('district', as_index=False).sum().sort_values(by=['total'], ascending=False)"
   ]
  },
  {
   "cell_type": "code",
   "execution_count": 14,
   "metadata": {},
   "outputs": [
    {
     "name": "stdout",
     "output_type": "stream",
     "text": [
      "Number of districts:  54\n",
      "Total confirmed:  2605\n",
      "         district  total\n",
      "11          Dhaka   1216\n",
      "35    Narayanganj    387\n",
      "16        Gazipur    269\n",
      "24    Kishoreganj    146\n",
      "36     Narshingdi    135\n",
      "7      Chattogram     43\n",
      "32     Mymensingh     33\n",
      "31     Munshigonj     33\n",
      "17      Gopalganj     30\n",
      "28      Madaripur     25\n",
      "26      Laksmipur     25\n",
      "4        Barishal     24\n",
      "10        Cumilla     21\n",
      "19       Jamalpur     21\n",
      "37      Netrokona     14\n",
      "48        Sherpur     13\n",
      "15      Gaibandha     13\n",
      "3         Barguna     12\n",
      "0        B. Baria     11\n",
      "12       Dinajpur     11\n",
      "6        Chandpur     10\n",
      "52        Tangail     10\n",
      "38     Nilphamari      9\n",
      "47     Shariatpur      8\n",
      "44        Rajbari      8\n",
      "29      Manikganj      7\n",
      "46        Rangpur      6\n",
      "53     Thakurgaon      6\n",
      "13       Faridpur      6\n",
      "45       Rajshahi      5\n",
      "42       Pirojpur      5\n",
      "39       Noakhali      4\n",
      "51         Sylhet      4\n",
      "21     Jhalokathi      4\n",
      "23         Khulna      3\n",
      "1        Bagerhat      2\n",
      "43     Potuakhali      2\n",
      "25       Kurigram      2\n",
      "40          Pabna      2\n",
      "27    Lalmonirhat      2\n",
      "14           Feni      2\n",
      "34         Narail      2\n",
      "22      Joypurhat      2\n",
      "30  Moulovi Bazar      2\n",
      "18       Hobiganj      1\n",
      "20        Jessore      1\n",
      "33        Naogaon      1\n",
      "9     Cox’s bazar      1\n",
      "8       Chuadanga      1\n",
      "5           Bogra      1\n",
      "49      Sirajganj      1\n",
      "50      Sunamganj      1\n",
      "2       Bandarban      1\n",
      "41      Panchagar      1\n"
     ]
    }
   ],
   "source": [
    "print(\"Number of districts: \", district_info.shape[0])\n",
    "print(\"Total confirmed: \", district_info['total'].sum())\n",
    "print(district_info)"
   ]
  },
  {
   "cell_type": "code",
   "execution_count": 15,
   "metadata": {},
   "outputs": [],
   "source": [
    "for d, t in zip(district_info['district'].tolist(), district_info['total'].tolist()):\n",
    "    if d in iedcr2bcc_district.keys():\n",
    "        d = iedcr2bcc_district[d]\n",
    "    #f.write(d + ',' + en2bn_district[d] + ',' + str(t) + \"\\n\")\n",
    "    f.write(d + ',,' + str(t) + \"\\n\")"
   ]
  },
  {
   "cell_type": "code",
   "execution_count": 16,
   "metadata": {},
   "outputs": [],
   "source": [
    "f.close()"
   ]
  }
 ],
 "metadata": {
  "kernelspec": {
   "display_name": "Python 3",
   "language": "python",
   "name": "python3"
  },
  "language_info": {
   "codemirror_mode": {
    "name": "ipython",
    "version": 3
   },
   "file_extension": ".py",
   "mimetype": "text/x-python",
   "name": "python",
   "nbconvert_exporter": "python",
   "pygments_lexer": "ipython3",
   "version": "3.6.9"
  }
 },
 "nbformat": 4,
 "nbformat_minor": 4
}
