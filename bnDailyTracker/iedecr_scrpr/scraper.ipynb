{
 "cells": [
  {
   "cell_type": "code",
   "execution_count": 1,
   "metadata": {},
   "outputs": [],
   "source": [
    "import tabula\n",
    "import pandas as pd"
   ]
  },
  {
   "cell_type": "code",
   "execution_count": 2,
   "metadata": {},
   "outputs": [
    {
     "data": {
      "text/plain": [
       "16"
      ]
     },
     "execution_count": 2,
     "metadata": {},
     "output_type": "execute_result"
    }
   ],
   "source": [
    "date = 29\n",
    "month = 'april'\n",
    "month_n = 4\n",
    "\n",
    "f = open(f\"./{month}/{date}/data.csv\", \"w+\")\n",
    "\n",
    "iedcr2bcc_district = {\n",
    "    \"B. Baria\": \"Brahamanbaria\",\n",
    "    \"Barishal\": \"Barisal\",\n",
    "    # \"Bogra\": \"Bogura\",\n",
    "    \"Chattogram\": \"Chittagong\",\n",
    "    \"Cox’s bazar\": \"Cox's Bazar\",\n",
    "    \"Cumilla\": \"Comilla\",\n",
    "    \"Hobiganj\": \"Habiganj\",\n",
    "    \"Jhalokathi\": \"Jhalokati\",\n",
    "    \"Laksmipur\": \"Lakshmipur\",\n",
    "    \"Moulovi Bazar\": \"Maulvibazar\",\n",
    "    \"Munshigonj\": \"Munshiganj\",\n",
    "    \"Narshingdi\": \"Narsingdi\",\n",
    "    \"Netrokona\": \"Netrakona\",\n",
    "    \"Panchagar\": \"Panchagarh\",\n",
    "    \"Potuakhali\": \"Patuakhali\",\n",
    "    \"Chapainawabganj\": \"Nawabganj\"\n",
    "}\n",
    "\n",
    "en2bn_district = {\n",
    "    \"Bagerhat\": \"বাগেরহাট\",\n",
    "    \"Bandarban\": \"বান্দরবান\",\n",
    "    \"Barguna\": \"বরগুনা\",\n",
    "    \"Barisal\": \"বরিশাল\",\n",
    "    \"Bhola\": \"ভোলা\",\n",
    "    \"Bogra\": \"বগুড়া\",\n",
    "    \"Brahamanbaria\": \"ব্রাহ্মণবাড়িয়া\",\n",
    "    \"Chandpur\": \"চাঁদপুর\",\n",
    "    \"Chittagong\": \"চট্টগ্রাম\",\n",
    "    \"Chuadanga\": \"চুয়াডাঙ্গা\",\n",
    "    \"Comilla\": \"কুমিল্লা\",\n",
    "    \"Cox's Bazar\": \"কক্সবাজার\",\n",
    "    \"Dhaka\": \"ঢাকা\",\n",
    "    \"Dinajpur\": \"দিনাজপুর\",\n",
    "    \"Faridpur\": \"ফরিদপুর\",\n",
    "    \"Feni\": \"ফেনী\",\n",
    "    \"Gaibandha\": \"গাইবান্ধা\",\n",
    "    \"Gazipur\": \"গাজীপুর\",\n",
    "    \"Gopalganj\": \"গোপালগঞ্জ\",\n",
    "    \"Habiganj\": \"হবিগঞ্জ\",\n",
    "    \"Jamalpur\": \"জামালপুর\",\n",
    "    \"Jessore\": \"যশোর\",\n",
    "    \"Jhalokati\": \"ঝালকাঠি\",\n",
    "    \"Jhenaidah\": \"ঝিনাইদহ\",\n",
    "    \"Joypurhat\": \"জয়পুরহাট\",\n",
    "    \"Khagrachhari\": \"খাগড়াছড়ি\",\n",
    "    \"Khulna\": \"খুলনা\",\n",
    "    \"Kishoreganj\": \"কিশোরগঞ্জ\",\n",
    "    \"Kurigram\": \"কুড়িগ্রাম\",\n",
    "    \"Kushtia\": \"কুষ্টিয়া\",\n",
    "    \"Lakshmipur\": \"লক্ষ্মীপুর\",\n",
    "    \"Lalmonirhat\": \"লালমনিরহাট\",\n",
    "    \"Madaripur\": \"মাদারীপুর\",\n",
    "    \"Magura\": \"মাগুরা\",\n",
    "    \"Manikganj\": \"মানিকগঞ্জ\",\n",
    "    \"Maulvibazar\": \"মেহেরপুর\",\n",
    "    \"Meherpur\": \"মৌলভীবাজার\",\n",
    "    \"Munshiganj\": \"মুন্সিগঞ্জ\",\n",
    "    \"Mymensingh\": \"ময়মনসিংহ\",\n",
    "    \"Naogaon\": \"নওগাঁ\",\n",
    "    \"Narail\": \"নড়াইল\",\n",
    "    \"Narayanganj\": \"নারায়ণগঞ্জ\",\n",
    "    \"Narsingdi\": \"নরসিংদী\",\n",
    "    \"Natore\": \"নাটোর\",\n",
    "    \"Nawabganj\": \"চাঁপাইনবাবগঞ্জ\",\n",
    "    \"Netrakona\": \"নেত্রকোণা\",\n",
    "    \"Nilphamari\": \"নীলফামারী\",\n",
    "    \"Noakhali\": \"নোয়াখালী\",\n",
    "    \"Pabna\": \"পাবনা\",\n",
    "    \"Panchagarh\": \"পঞ্চগড়\",\n",
    "    \"Patuakhali\": \"পটুয়াখালী\",\n",
    "    \"Pirojpur\": \"পিরোজপুর\",\n",
    "    \"Rajbari\": \"রাজবাড়ী\",\n",
    "    \"Rajshahi\": \"রাজশাহী\",\n",
    "    \"Rangamati\": \"রাঙ্গামাটি\",\n",
    "    \"Rangpur\": \"রংপুর\",\n",
    "    \"Satkhira\": \"সাতক্ষীরা\",\n",
    "    \"Shariatpur\": \"শরীয়তপুর\",\n",
    "    \"Sherpur\": \"শেরপুর\",\n",
    "    \"Sirajganj\": \"সিরাজগঞ্জ\",\n",
    "    \"Sunamganj\": \"সুনামগঞ্জ\",\n",
    "    \"Sylhet\": \"সিলেট\",\n",
    "    \"Tangail\": \"টাঙ্গাইল\",\n",
    "    \"Thakurgaon\": \"ঠাকুরগাঁও\"\n",
    "}\n",
    "\n",
    "en2bn_dhk_area = {\n",
    "    \n",
    "}\n",
    "\n",
    "f.write(\"date\" + ',,' + f'{date}.{month_n}.2020' + '\\n')"
   ]
  },
  {
   "cell_type": "code",
   "execution_count": 3,
   "metadata": {},
   "outputs": [
    {
     "name": "stderr",
     "output_type": "stream",
     "text": [
      "Got stderr: Apr 29, 2020 4:51:52 PM org.apache.pdfbox.pdmodel.font.PDCIDFontType2 <init>\n",
      "INFO: OpenType Layout tables used in font ABCDEE+Calibri are not implemented in PDFBox and will be ignored\n",
      "Apr 29, 2020 4:51:53 PM org.apache.pdfbox.pdmodel.font.PDCIDFontType2 <init>\n",
      "INFO: OpenType Layout tables used in font ABCDEE+Calibri are not implemented in PDFBox and will be ignored\n",
      "Apr 29, 2020 4:51:54 PM org.apache.pdfbox.pdmodel.font.PDCIDFontType2 <init>\n",
      "INFO: OpenType Layout tables used in font ABCDEE+Calibri are not implemented in PDFBox and will be ignored\n",
      "\n"
     ]
    }
   ],
   "source": [
    "try:\n",
    "    df = tabula.read_pdf(f\"./{month}/{date}/data_updated.pdf\", pages='all', pandas_options={\"header\": None})\n",
    "except FileNotFoundError:\n",
    "    df = tabula.read_pdf(f\"./{month}/{date}/data.pdf\", pages='all', pandas_options={\"header\": None})"
   ]
  },
  {
   "cell_type": "code",
   "execution_count": 4,
   "metadata": {},
   "outputs": [],
   "source": [
    "# with pd.option_context('display.max_rows', None, 'display.max_columns', None): \n",
    "#     print(df[1:])\n"
   ]
  },
  {
   "cell_type": "code",
   "execution_count": 5,
   "metadata": {},
   "outputs": [],
   "source": [
    "# district_info = pd.concat([df[0], df[1]], ignore_index=True).iloc[1:]\n",
    "district_info = df[0].iloc[1:]"
   ]
  },
  {
   "cell_type": "code",
   "execution_count": 6,
   "metadata": {},
   "outputs": [],
   "source": [
    "#corrupt_data = district_info[district_info[2].isnull()]\n",
    "#corrupt_data = corrupt_data.drop(corrupt_data.columns[[2,3]], axis=1).dropna(how='any')"
   ]
  },
  {
   "cell_type": "code",
   "execution_count": 11,
   "metadata": {
    "scrolled": true
   },
   "outputs": [
    {
     "name": "stdout",
     "output_type": "stream",
     "text": [
      "[             0                 1      2         3       4            5\n",
      "0     Division     District/City  Total  Division       %  Total Death\n",
      "1          NaN        Dhaka City   3423      3423  54.73%           85\n",
      "2          NaN  Dhaka (District)     95       NaN     NaN            3\n",
      "3          NaN           Gazipur    320       NaN     NaN          NaN\n",
      "4          NaN       Kishoreganj    197       NaN     NaN            1\n",
      "5          NaN         Madaripur     38       NaN     NaN            2\n",
      "6          NaN         Manikganj     21       NaN     NaN          NaN\n",
      "7          NaN       Narayanganj    863       NaN     NaN           39\n",
      "8        Dhaka               NaN    NaN       NaN     NaN          NaN\n",
      "9          NaN        Munshigonj    109      1915  30.62%            4\n",
      "10         NaN        Narshingdi    142       NaN     NaN            1\n",
      "11         NaN           Rajbari     14       NaN     NaN          NaN\n",
      "12         NaN          Faridpur     12       NaN     NaN          NaN\n",
      "13         NaN           Tangail     28       NaN     NaN            2\n",
      "14         NaN        Shariatpur     24       NaN     NaN            1\n",
      "15         NaN         Gopalganj     52       NaN     NaN          NaN\n",
      "16         NaN        Chattogram     70       NaN     NaN            2\n",
      "17         NaN       Cox’s bazar     20       NaN     NaN          NaN\n",
      "18         NaN           Cumilla     81       NaN     NaN            4\n",
      "19         NaN          B. Baria     37       NaN     NaN            2\n",
      "20  Chattogram         Laksmipur     35       270   4.32%            1\n",
      "21         NaN         Bandarban      4       NaN     NaN          NaN\n",
      "22         NaN          Noakhali      6       NaN     NaN            1\n",
      "23         NaN              Feni      4       NaN     NaN          NaN\n",
      "24         NaN          Chandpur     13       NaN     NaN          NaN\n",
      "25         NaN     Moulovi Bazar     12       NaN     NaN            2\n",
      "26         NaN         Sunamganj     28       NaN     NaN          NaN\n",
      "27      Sylhet               NaN    NaN       108   1.73%          NaN\n",
      "28         NaN          Hobiganj     52       NaN     NaN          NaN\n",
      "29         NaN            Sylhet     16       NaN     NaN            2\n",
      "30         NaN           Rangpur     28       NaN     NaN          NaN\n",
      "31         NaN         Gaibandha     20       NaN     NaN          NaN\n",
      "32         NaN        Nilphamari     13       NaN     NaN          NaN\n",
      "33         NaN       Lalmonirhat      3       NaN     NaN          NaN\n",
      "34     Rangpur               NaN    NaN       113   1.81%          NaN\n",
      "35         NaN          Kurigram      7       NaN     NaN          NaN\n",
      "36         NaN          Dinajpur     18       NaN     NaN          NaN\n",
      "37         NaN         Panchagar      8       NaN     NaN          NaN\n",
      "38         NaN        Thakurgaon     16       NaN     NaN          NaN\n",
      "39         NaN            Khulna     11       NaN     NaN          NaN\n",
      "40         NaN           Jessore     62       NaN     NaN          NaN\n",
      "41         NaN          Bagerhat      1       NaN     NaN          NaN\n",
      "42         NaN            Narail     13       NaN     NaN          NaN\n",
      "43         NaN            Magura      6       NaN     NaN          NaN\n",
      "44      Khulna               NaN    NaN       136   2.17%          NaN\n",
      "45         NaN          Meherpur      2       NaN     NaN            1\n",
      "46         NaN          Satkhira      1       NaN     NaN          NaN\n",
      "47         NaN         Jhenaidah     19       NaN     NaN          NaN\n",
      "48         NaN           Kushtia     13       NaN     NaN          NaN\n",
      "49         NaN         Chuadanga      8       NaN     NaN          NaN\n",
      "50         NaN        Mymensingh    125       NaN     NaN            2\n",
      "51         NaN          Jamalpur     58       NaN     NaN            3\n",
      "52  Mymensingh               NaN    NaN       237   3.79%          NaN\n",
      "53         NaN         Netrokona     29       NaN     NaN          NaN\n",
      "54         NaN           Sherpur     25       NaN     NaN          NaN\n",
      "55         NaN           Barguna     30       NaN     NaN            1\n",
      "56         NaN             Bhola      5       NaN     NaN          NaN\n",
      "57         NaN          Barishal     40       NaN     NaN          NaN\n",
      "58    Barishal               NaN    NaN       112   1.79%          NaN\n",
      "59         NaN        Potuakhali     23       NaN     NaN            1\n",
      "60         NaN          Pirojpur      8       NaN     NaN          NaN\n",
      "61         NaN        Jhalokathi      6       NaN     NaN          NaN\n",
      "62         NaN         Joypurhat     28       NaN     NaN            1\n",
      "63         NaN             Pabna      8       NaN     NaN          NaN\n",
      "64         NaN   Chapainawabganj      2       NaN     NaN          NaN\n",
      "65         NaN             Bogra     18       NaN     NaN          NaN\n",
      "66    Rajshahi               NaN    NaN       101   1.61%          NaN\n",
      "67         NaN            Natore      8       NaN     NaN          NaN\n",
      "68         NaN           Naogaon     15       NaN     NaN          NaN\n",
      "69         NaN         Sirajganj      3       NaN     NaN          NaN\n",
      "70         NaN          Rajshahi     19       NaN     NaN            2]\n"
     ]
    }
   ],
   "source": [
    "with pd.option_context('display.max_rows', None, 'display.max_columns', None): \n",
    "    print(df)\n",
    "#     print(dhk_area_dat)\n",
    "columns_to_be_dropped = district_info.columns[[0, 3, 4, 5]]"
   ]
  },
  {
   "cell_type": "code",
   "execution_count": 13,
   "metadata": {},
   "outputs": [
    {
     "ename": "KeyError",
     "evalue": "'[0 3 4 5] not found in axis'",
     "output_type": "error",
     "traceback": [
      "\u001b[0;31m---------------------------------------------------------------------------\u001b[0m",
      "\u001b[0;31mKeyError\u001b[0m                                  Traceback (most recent call last)",
      "\u001b[0;32m<ipython-input-13-0dd44ab19258>\u001b[0m in \u001b[0;36m<module>\u001b[0;34m\u001b[0m\n\u001b[0;32m----> 1\u001b[0;31m \u001b[0mdistrict_info\u001b[0m \u001b[0;34m=\u001b[0m \u001b[0mdistrict_info\u001b[0m\u001b[0;34m.\u001b[0m\u001b[0mdrop\u001b[0m\u001b[0;34m(\u001b[0m\u001b[0mcolumns_to_be_dropped\u001b[0m\u001b[0;34m,\u001b[0m \u001b[0maxis\u001b[0m\u001b[0;34m=\u001b[0m\u001b[0;36m1\u001b[0m\u001b[0;34m)\u001b[0m\u001b[0;34m.\u001b[0m\u001b[0mdropna\u001b[0m\u001b[0;34m(\u001b[0m\u001b[0mhow\u001b[0m\u001b[0;34m=\u001b[0m\u001b[0;34m'any'\u001b[0m\u001b[0;34m)\u001b[0m\u001b[0;34m\u001b[0m\u001b[0;34m\u001b[0m\u001b[0m\n\u001b[0m",
      "\u001b[0;32m~/.local/lib/python3.6/site-packages/pandas/core/frame.py\u001b[0m in \u001b[0;36mdrop\u001b[0;34m(self, labels, axis, index, columns, level, inplace, errors)\u001b[0m\n\u001b[1;32m   3995\u001b[0m             \u001b[0mlevel\u001b[0m\u001b[0;34m=\u001b[0m\u001b[0mlevel\u001b[0m\u001b[0;34m,\u001b[0m\u001b[0;34m\u001b[0m\u001b[0;34m\u001b[0m\u001b[0m\n\u001b[1;32m   3996\u001b[0m             \u001b[0minplace\u001b[0m\u001b[0;34m=\u001b[0m\u001b[0minplace\u001b[0m\u001b[0;34m,\u001b[0m\u001b[0;34m\u001b[0m\u001b[0;34m\u001b[0m\u001b[0m\n\u001b[0;32m-> 3997\u001b[0;31m             \u001b[0merrors\u001b[0m\u001b[0;34m=\u001b[0m\u001b[0merrors\u001b[0m\u001b[0;34m,\u001b[0m\u001b[0;34m\u001b[0m\u001b[0;34m\u001b[0m\u001b[0m\n\u001b[0m\u001b[1;32m   3998\u001b[0m         )\n\u001b[1;32m   3999\u001b[0m \u001b[0;34m\u001b[0m\u001b[0m\n",
      "\u001b[0;32m~/.local/lib/python3.6/site-packages/pandas/core/generic.py\u001b[0m in \u001b[0;36mdrop\u001b[0;34m(self, labels, axis, index, columns, level, inplace, errors)\u001b[0m\n\u001b[1;32m   3934\u001b[0m         \u001b[0;32mfor\u001b[0m \u001b[0maxis\u001b[0m\u001b[0;34m,\u001b[0m \u001b[0mlabels\u001b[0m \u001b[0;32min\u001b[0m \u001b[0maxes\u001b[0m\u001b[0;34m.\u001b[0m\u001b[0mitems\u001b[0m\u001b[0;34m(\u001b[0m\u001b[0;34m)\u001b[0m\u001b[0;34m:\u001b[0m\u001b[0;34m\u001b[0m\u001b[0;34m\u001b[0m\u001b[0m\n\u001b[1;32m   3935\u001b[0m             \u001b[0;32mif\u001b[0m \u001b[0mlabels\u001b[0m \u001b[0;32mis\u001b[0m \u001b[0;32mnot\u001b[0m \u001b[0;32mNone\u001b[0m\u001b[0;34m:\u001b[0m\u001b[0;34m\u001b[0m\u001b[0;34m\u001b[0m\u001b[0m\n\u001b[0;32m-> 3936\u001b[0;31m                 \u001b[0mobj\u001b[0m \u001b[0;34m=\u001b[0m \u001b[0mobj\u001b[0m\u001b[0;34m.\u001b[0m\u001b[0m_drop_axis\u001b[0m\u001b[0;34m(\u001b[0m\u001b[0mlabels\u001b[0m\u001b[0;34m,\u001b[0m \u001b[0maxis\u001b[0m\u001b[0;34m,\u001b[0m \u001b[0mlevel\u001b[0m\u001b[0;34m=\u001b[0m\u001b[0mlevel\u001b[0m\u001b[0;34m,\u001b[0m \u001b[0merrors\u001b[0m\u001b[0;34m=\u001b[0m\u001b[0merrors\u001b[0m\u001b[0;34m)\u001b[0m\u001b[0;34m\u001b[0m\u001b[0;34m\u001b[0m\u001b[0m\n\u001b[0m\u001b[1;32m   3937\u001b[0m \u001b[0;34m\u001b[0m\u001b[0m\n\u001b[1;32m   3938\u001b[0m         \u001b[0;32mif\u001b[0m \u001b[0minplace\u001b[0m\u001b[0;34m:\u001b[0m\u001b[0;34m\u001b[0m\u001b[0;34m\u001b[0m\u001b[0m\n",
      "\u001b[0;32m~/.local/lib/python3.6/site-packages/pandas/core/generic.py\u001b[0m in \u001b[0;36m_drop_axis\u001b[0;34m(self, labels, axis, level, errors)\u001b[0m\n\u001b[1;32m   3968\u001b[0m                 \u001b[0mnew_axis\u001b[0m \u001b[0;34m=\u001b[0m \u001b[0maxis\u001b[0m\u001b[0;34m.\u001b[0m\u001b[0mdrop\u001b[0m\u001b[0;34m(\u001b[0m\u001b[0mlabels\u001b[0m\u001b[0;34m,\u001b[0m \u001b[0mlevel\u001b[0m\u001b[0;34m=\u001b[0m\u001b[0mlevel\u001b[0m\u001b[0;34m,\u001b[0m \u001b[0merrors\u001b[0m\u001b[0;34m=\u001b[0m\u001b[0merrors\u001b[0m\u001b[0;34m)\u001b[0m\u001b[0;34m\u001b[0m\u001b[0;34m\u001b[0m\u001b[0m\n\u001b[1;32m   3969\u001b[0m             \u001b[0;32melse\u001b[0m\u001b[0;34m:\u001b[0m\u001b[0;34m\u001b[0m\u001b[0;34m\u001b[0m\u001b[0m\n\u001b[0;32m-> 3970\u001b[0;31m                 \u001b[0mnew_axis\u001b[0m \u001b[0;34m=\u001b[0m \u001b[0maxis\u001b[0m\u001b[0;34m.\u001b[0m\u001b[0mdrop\u001b[0m\u001b[0;34m(\u001b[0m\u001b[0mlabels\u001b[0m\u001b[0;34m,\u001b[0m \u001b[0merrors\u001b[0m\u001b[0;34m=\u001b[0m\u001b[0merrors\u001b[0m\u001b[0;34m)\u001b[0m\u001b[0;34m\u001b[0m\u001b[0;34m\u001b[0m\u001b[0m\n\u001b[0m\u001b[1;32m   3971\u001b[0m             \u001b[0mresult\u001b[0m \u001b[0;34m=\u001b[0m \u001b[0mself\u001b[0m\u001b[0;34m.\u001b[0m\u001b[0mreindex\u001b[0m\u001b[0;34m(\u001b[0m\u001b[0;34m**\u001b[0m\u001b[0;34m{\u001b[0m\u001b[0maxis_name\u001b[0m\u001b[0;34m:\u001b[0m \u001b[0mnew_axis\u001b[0m\u001b[0;34m}\u001b[0m\u001b[0;34m)\u001b[0m\u001b[0;34m\u001b[0m\u001b[0;34m\u001b[0m\u001b[0m\n\u001b[1;32m   3972\u001b[0m \u001b[0;34m\u001b[0m\u001b[0m\n",
      "\u001b[0;32m~/.local/lib/python3.6/site-packages/pandas/core/indexes/base.py\u001b[0m in \u001b[0;36mdrop\u001b[0;34m(self, labels, errors)\u001b[0m\n\u001b[1;32m   5015\u001b[0m         \u001b[0;32mif\u001b[0m \u001b[0mmask\u001b[0m\u001b[0;34m.\u001b[0m\u001b[0many\u001b[0m\u001b[0;34m(\u001b[0m\u001b[0;34m)\u001b[0m\u001b[0;34m:\u001b[0m\u001b[0;34m\u001b[0m\u001b[0;34m\u001b[0m\u001b[0m\n\u001b[1;32m   5016\u001b[0m             \u001b[0;32mif\u001b[0m \u001b[0merrors\u001b[0m \u001b[0;34m!=\u001b[0m \u001b[0;34m\"ignore\"\u001b[0m\u001b[0;34m:\u001b[0m\u001b[0;34m\u001b[0m\u001b[0;34m\u001b[0m\u001b[0m\n\u001b[0;32m-> 5017\u001b[0;31m                 \u001b[0;32mraise\u001b[0m \u001b[0mKeyError\u001b[0m\u001b[0;34m(\u001b[0m\u001b[0;34mf\"{labels[mask]} not found in axis\"\u001b[0m\u001b[0;34m)\u001b[0m\u001b[0;34m\u001b[0m\u001b[0;34m\u001b[0m\u001b[0m\n\u001b[0m\u001b[1;32m   5018\u001b[0m             \u001b[0mindexer\u001b[0m \u001b[0;34m=\u001b[0m \u001b[0mindexer\u001b[0m\u001b[0;34m[\u001b[0m\u001b[0;34m~\u001b[0m\u001b[0mmask\u001b[0m\u001b[0;34m]\u001b[0m\u001b[0;34m\u001b[0m\u001b[0;34m\u001b[0m\u001b[0m\n\u001b[1;32m   5019\u001b[0m         \u001b[0;32mreturn\u001b[0m \u001b[0mself\u001b[0m\u001b[0;34m.\u001b[0m\u001b[0mdelete\u001b[0m\u001b[0;34m(\u001b[0m\u001b[0mindexer\u001b[0m\u001b[0;34m)\u001b[0m\u001b[0;34m\u001b[0m\u001b[0;34m\u001b[0m\u001b[0m\n",
      "\u001b[0;31mKeyError\u001b[0m: '[0 3 4 5] not found in axis'"
     ]
    }
   ],
   "source": [
    "district_info = district_info.drop(columns_to_be_dropped, axis=1).dropna(how='any')"
   ]
  },
  {
   "cell_type": "code",
   "execution_count": 14,
   "metadata": {},
   "outputs": [],
   "source": [
    "# corrupt_data.columns = ['district', 'total']\n",
    "district_info.columns =  ['district', 'total']"
   ]
  },
  {
   "cell_type": "code",
   "execution_count": null,
   "metadata": {},
   "outputs": [],
   "source": [
    "# district_info = pd.concat([district_info, corrupt_data], ignore_index=True)"
   ]
  },
  {
   "cell_type": "code",
   "execution_count": 15,
   "metadata": {},
   "outputs": [],
   "source": [
    "district_info.total = district_info.total.astype(int)\n"
   ]
  },
  {
   "cell_type": "code",
   "execution_count": 16,
   "metadata": {},
   "outputs": [],
   "source": [
    "district_info = district_info.replace({'district': {'Dhaka City':'Dhaka'}}).replace({'district': {'Dhaka (District)':'Dhaka'}}).groupby('district', as_index=False).sum().sort_values(by=['total'], ascending=False)"
   ]
  },
  {
   "cell_type": "code",
   "execution_count": 17,
   "metadata": {},
   "outputs": [
    {
     "name": "stdout",
     "output_type": "stream",
     "text": [
      "Number of districts:  62\n",
      "Total confirmed:  6415\n",
      "           district  total\n",
      "13            Dhaka   3518\n",
      "41      Narayanganj    863\n",
      "18          Gazipur    320\n",
      "27      Kishoreganj    197\n",
      "42       Narshingdi    142\n",
      "..              ...    ...\n",
      "31      Lalmonirhat      3\n",
      "8   Chapainawabganj      2\n",
      "35         Meherpur      2\n",
      "54         Satkhira      1\n",
      "1          Bagerhat      1\n",
      "\n",
      "[62 rows x 2 columns]\n"
     ]
    }
   ],
   "source": [
    "print(\"Number of districts: \", district_info.shape[0])\n",
    "print(\"Total confirmed: \", district_info['total'].sum())\n",
    "print(district_info)"
   ]
  },
  {
   "cell_type": "code",
   "execution_count": 18,
   "metadata": {},
   "outputs": [],
   "source": [
    "for d, t in zip(district_info['district'].tolist(), district_info['total'].tolist()):\n",
    "    if d in iedcr2bcc_district.keys():\n",
    "        d = iedcr2bcc_district[d]\n",
    "    #f.write(d + ',' + en2bn_district[d] + ',' + str(t) + \"\\n\")\n",
    "    f.write(d + ',,' + str(t) + \"\\n\")"
   ]
  },
  {
   "cell_type": "code",
   "execution_count": 19,
   "metadata": {},
   "outputs": [],
   "source": [
    "f.close()"
   ]
  },
  {
   "cell_type": "code",
   "execution_count": null,
   "metadata": {},
   "outputs": [],
   "source": [
    "f_area = open(f\"./{month}/{date}/dhk_area.csv\", \"w+\")\n",
    "\n",
    "dhk_area_dat = pd.concat(df[1:-1], ignore_index=True).iloc[1:]\n",
    "dhk_area_dat.columns = ['area', 'total']\n",
    "dhk_area_dat.total = dhk_area_dat.total.astype(int)\n",
    "\n",
    "print(\"Number of area: \", dhk_area_dat.shape[0])\n",
    "print(\"Total confirmed: \", dhk_area_dat['total'].sum())\n",
    "# with pd.option_context('display.max_rows', None, 'display.max_columns', None): \n",
    "#     print(dhk_area_dat)\n",
    "\n",
    "f_area.write(\"Number of area\" + \",\" + str(dhk_area_dat.shape[0]))  \n",
    "f_area.write(\"Total confirmed\" + \",\" + str(dhk_area_dat['total'].sum())) \n",
    "\n",
    "for a, t in zip(dhk_area_dat['area'].tolist(), dhk_area_dat['total'].tolist()):\n",
    "    print(a, t)\n",
    "#     if d in iedcr2bcc_district.keys():\n",
    "#         d = iedcr2bcc_district[d]\n",
    "    f_area.write(a + ',' + str(t) + \"\\n\")\n",
    "f_area.close()"
   ]
  }
 ],
 "metadata": {
  "kernelspec": {
   "display_name": "Python 3",
   "language": "python",
   "name": "python3"
  },
  "language_info": {
   "codemirror_mode": {
    "name": "ipython",
    "version": 3
   },
   "file_extension": ".py",
   "mimetype": "text/x-python",
   "name": "python",
   "nbconvert_exporter": "python",
   "pygments_lexer": "ipython3",
   "version": "3.6.9"
  },
  "varInspector": {
   "cols": {
    "lenName": 16,
    "lenType": 16,
    "lenVar": 40
   },
   "kernels_config": {
    "python": {
     "delete_cmd_postfix": "",
     "delete_cmd_prefix": "del ",
     "library": "var_list.py",
     "varRefreshCmd": "print(var_dic_list())"
    },
    "r": {
     "delete_cmd_postfix": ") ",
     "delete_cmd_prefix": "rm(",
     "library": "var_list.r",
     "varRefreshCmd": "cat(var_dic_list()) "
    }
   },
   "position": {
    "height": "391px",
    "left": "1445px",
    "right": "20px",
    "top": "120px",
    "width": "350px"
   },
   "types_to_exclude": [
    "module",
    "function",
    "builtin_function_or_method",
    "instance",
    "_Feature"
   ],
   "window_display": true
  }
 },
 "nbformat": 4,
 "nbformat_minor": 4
}
